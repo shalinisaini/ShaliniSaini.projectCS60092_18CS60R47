{
  "nbformat": 4,
  "nbformat_minor": 0,
  "metadata": {
    "colab": {
      "name": "DL_Assign.ipynb",
      "version": "0.3.2",
      "provenance": [],
      "include_colab_link": true
    },
    "kernelspec": {
      "name": "python3",
      "display_name": "Python 3"
    },
    "accelerator": "GPU"
  },
  "cells": [
    {
      "cell_type": "markdown",
      "metadata": {
        "id": "view-in-github",
        "colab_type": "text"
      },
      "source": [
        "<a href=\"https://colab.research.google.com/github/shalinisaini/CS60092_9A_18CS60R47/blob/master/DL_Assign.ipynb\" target=\"_parent\"><img src=\"https://colab.research.google.com/assets/colab-badge.svg\" alt=\"Open In Colab\"/></a>"
      ]
    },
    {
      "metadata": {
        "id": "ItGPNUQ5r5Lt",
        "colab_type": "code",
        "colab": {}
      },
      "cell_type": "code",
      "source": [
        "import torch\n",
        "import pandas as pd\n",
        "import numpy as np\n",
        "import torch.nn as nn\n",
        "import torch.nn.functional as F\n",
        "from torch.autograd import Variable\n",
        "SEED =42\n",
        "torch.manual_seed(SEED)\n",
        "\n",
        "import nltk\n",
        "from nltk.corpus import stopwords \n",
        "from nltk.tokenize import word_tokenize \n"
      ],
      "execution_count": 0,
      "outputs": []
    },
    {
      "metadata": {
        "id": "sENBdtHuNuOU",
        "colab_type": "code",
        "outputId": "af28287b-db24-4b62-9bd4-4a9d92f4f838",
        "colab": {
          "base_uri": "https://localhost:8080/",
          "height": 104
        }
      },
      "cell_type": "code",
      "source": [
        "nltk.download('stopwords')\n",
        "nltk.download('punkt')"
      ],
      "execution_count": 111,
      "outputs": [
        {
          "output_type": "stream",
          "text": [
            "[nltk_data] Downloading package stopwords to /root/nltk_data...\n",
            "[nltk_data]   Package stopwords is already up-to-date!\n",
            "[nltk_data] Downloading package punkt to /root/nltk_data...\n",
            "[nltk_data]   Package punkt is already up-to-date!\n"
          ],
          "name": "stdout"
        },
        {
          "output_type": "execute_result",
          "data": {
            "text/plain": [
              "True"
            ]
          },
          "metadata": {
            "tags": []
          },
          "execution_count": 111
        }
      ]
    },
    {
      "metadata": {
        "id": "BPwxlUA3t7IE",
        "colab_type": "code",
        "colab": {}
      },
      "cell_type": "code",
      "source": [
        "\n",
        "url = 'https://raw.githubusercontent.com/binny-mathew/IITKGP_CS69002_Spring_2019/master/Dataset/Test_5K.csv'\n",
        "df1 = pd.read_csv(url, sep='\\t')"
      ],
      "execution_count": 0,
      "outputs": []
    },
    {
      "metadata": {
        "id": "yixXQWU_IHmF",
        "colab_type": "code",
        "colab": {}
      },
      "cell_type": "code",
      "source": [
        "url = 'https://raw.githubusercontent.com/binny-mathew/IITKGP_CS69002_Spring_2019/master/Dataset/Train_20K.csv'\n",
        "df2 = pd.read_csv(url, sep='\\t')"
      ],
      "execution_count": 0,
      "outputs": []
    },
    {
      "metadata": {
        "id": "lOqhLei4KSh0",
        "colab_type": "code",
        "colab": {}
      },
      "cell_type": "code",
      "source": [
        ""
      ],
      "execution_count": 0,
      "outputs": []
    },
    {
      "metadata": {
        "id": "mOWHbT7WuC2S",
        "colab_type": "code",
        "colab": {}
      },
      "cell_type": "code",
      "source": [
        "train_data = df2['text'].astype(str).tolist()\n",
        "train_label = df2['label'].astype(int)\n",
        "test_data = df1['text'].astype(str).tolist()\n",
        "test_label = df1['label'].astype(int)\n",
        "\n",
        "train_data = [x.lower() for x in train_data]\n",
        "test_data = [x.lower() for x in test_data]\n",
        "\n",
        "\n",
        " \n"
      ],
      "execution_count": 0,
      "outputs": []
    },
    {
      "metadata": {
        "id": "VyLj6cWluKjL",
        "colab_type": "code",
        "colab": {}
      },
      "cell_type": "code",
      "source": [
        "def generate_word_ids(dataset):\n",
        "  word_to_ix = {}\n",
        "  print(dataset)\n",
        "  for sent in dataset:\n",
        "      for word in sent.split():\n",
        "          if word not in word_to_ix:\n",
        "              word_to_ix[word] = 1\n",
        "          else:\n",
        "              word_to_ix[word] = word_to_ix[word]+1\n",
        "  return word_to_ix"
      ],
      "execution_count": 0,
      "outputs": []
    },
    {
      "metadata": {
        "id": "SMasvXTyvPjH",
        "colab_type": "code",
        "colab": {
          "base_uri": "https://localhost:8080/",
          "height": 191
        },
        "outputId": "0c8292b7-4d1d-48eb-f860-49b1e3ca7d86"
      },
      "cell_type": "code",
      "source": [
        "word_to_ix = generate_word_ids(train_data+test_data)\n",
        "\n",
        "NUM_LABELS = 2\n",
        "\n",
        "list=[]\n",
        "for i in word_to_ix:\n",
        "  if(word_to_ix[i]<10):\n",
        "    list.append(i)\n",
        "word_to_ix={}\n",
        "for i in list:\n",
        "  word_to_ix[i] = len(word_to_ix)\n",
        "  \n",
        "VOCAB_SIZE = len(word_to_ix)"
      ],
      "execution_count": 131,
      "outputs": [
        {
          "output_type": "stream",
          "text": [
            "IOPub data rate exceeded.\n",
            "The notebook server will temporarily stop sending output\n",
            "to the client in order to avoid crashing it.\n",
            "To change this limit, set the config variable\n",
            "`--NotebookApp.iopub_data_rate_limit`.\n",
            "\n",
            "Current values:\n",
            "NotebookApp.iopub_data_rate_limit=1000000.0 (bytes/sec)\n",
            "NotebookApp.rate_limit_window=3.0 (secs)\n",
            "\n"
          ],
          "name": "stderr"
        }
      ]
    },
    {
      "metadata": {
        "id": "rrhRlLTrvT4e",
        "colab_type": "code",
        "colab": {}
      },
      "cell_type": "code",
      "source": [
        ""
      ],
      "execution_count": 0,
      "outputs": []
    },
    {
      "metadata": {
        "id": "c6KDx_BFvcb4",
        "colab_type": "code",
        "colab": {}
      },
      "cell_type": "code",
      "source": [
        "train=[]\n",
        "test=[]\n",
        "for i in test_data:\n",
        "  test.append(i.split(\" \"))\n",
        "for i in train_data:\n",
        "  train.append(i.split(\" \"))\n",
        "train_data = train\n",
        "test_data = test"
      ],
      "execution_count": 0,
      "outputs": []
    },
    {
      "metadata": {
        "id": "LRhNz0Y0vnBR",
        "colab_type": "code",
        "colab": {}
      },
      "cell_type": "code",
      "source": [
        "class BOWClassifier(nn.Module):\n",
        "  def __init__(self, num_labels, vocab_size):\n",
        "    super(BOWClassifier, self).__init__()\n",
        "    self.lin = nn.Linear(vocab_size, 50)\n",
        "    #self.lin2 = nn.Linear(50, 50)\n",
        "    #self.lin3 = nn.Linear(50, 50)\n",
        "    self.lin4 = nn.Linear(50, num_labels)\n",
        "    \n",
        "  def forward(self, x):\n",
        "    return F.softmax(self.lin4(self.lin(x)))"
      ],
      "execution_count": 0,
      "outputs": []
    },
    {
      "metadata": {
        "id": "i0Z69E1kvpm0",
        "colab_type": "code",
        "colab": {}
      },
      "cell_type": "code",
      "source": [
        "def make_bow_vector(sentence, word_to_ix):\n",
        "    # create a vector of zeros of vocab size = len(word_to_idx)\n",
        "    vec = torch.zeros(len(word_to_ix))\n",
        "    for word in sentence:\n",
        "        if word not in word_to_ix:\n",
        "            #raise ValueError('Word',word,' not present in the dictionary. Sorry!')\n",
        "            c=1\n",
        "        else:\n",
        "            vec[word_to_ix[word]]+=1\n",
        "    return vec.view(1, -1)\n",
        "\n",
        "def make_target(label, label_to_ix):\n",
        "    return torch.LongTensor([label_to_ix[label]])\n"
      ],
      "execution_count": 0,
      "outputs": []
    },
    {
      "metadata": {
        "id": "eyfCXSu4vsd9",
        "colab_type": "code",
        "colab": {}
      },
      "cell_type": "code",
      "source": [
        "bow = BOWClassifier(NUM_LABELS, VOCAB_SIZE)\n"
      ],
      "execution_count": 0,
      "outputs": []
    },
    {
      "metadata": {
        "id": "eQHtkKk9vrsO",
        "colab_type": "code",
        "colab": {}
      },
      "cell_type": "code",
      "source": [
        "def accuracy(data,label):\n",
        "  count=0\n",
        "  for idx in range(len(data)):\n",
        "      bow_vec = Variable(make_bow_vector(data[idx], word_to_ix))\n",
        "      labels = Variable(torch.LongTensor(label[idx]))\n",
        "      logprobs = bow(bow_vec)\n",
        "      pred = np.argmax(logprobs.data.numpy())\n",
        "      #print(pred,label[idx]+1)\n",
        "      if(pred == label[idx]):\n",
        "        count+=1\n",
        "  print(\"accuracy\",count/len(data))\n",
        "        \n"
      ],
      "execution_count": 0,
      "outputs": []
    },
    {
      "metadata": {
        "id": "IxveFExVvrap",
        "colab_type": "code",
        "colab": {}
      },
      "cell_type": "code",
      "source": [
        "# define a loss function and an optimizer\n",
        "loss_function = nn.MSELoss()\n",
        "opt = torch.optim.SGD(bow.parameters(), lr = 0.1)"
      ],
      "execution_count": 0,
      "outputs": []
    },
    {
      "metadata": {
        "id": "35kq5wTfv9yo",
        "colab_type": "code",
        "colab": {
          "base_uri": "https://localhost:8080/",
          "height": 332
        },
        "outputId": "ba7c1dac-dac8-461a-9c29-383b995f42b5"
      },
      "cell_type": "code",
      "source": [
        "# the training loop\n",
        "for epoch in range(5):\n",
        "    print(\"epoch\",epoch)\n",
        "    for idx in range(len(train_data)):\n",
        "        # get the training data\n",
        "        bow.zero_grad()\n",
        "        #print(train_data[idx])\n",
        "        #print(train_label[idx])\n",
        "        bow_vec = Variable(make_bow_vector(train_data[idx], word_to_ix))\n",
        "        label  = Variable(torch.FloatTensor(1+train_label[idx]))\n",
        "        #print(bow_vec,label,train_label[idx])\n",
        "        probs = bow(bow_vec) # forward pass\n",
        "        #print(probs)\n",
        "        loss = loss_function(probs, label)\n",
        "        loss.backward()\n",
        "        opt.step()\n",
        "    print('CURRENT LOSS: {}'.format(loss.data))\n",
        "    accuracy(train_data,train_label)\n"
      ],
      "execution_count": 140,
      "outputs": [
        {
          "output_type": "stream",
          "text": [
            "epoch 0\n"
          ],
          "name": "stdout"
        },
        {
          "output_type": "stream",
          "text": [
            "/usr/local/lib/python3.6/dist-packages/ipykernel_launcher.py:10: UserWarning: Implicit dimension choice for softmax has been deprecated. Change the call to include dim=X as an argument.\n",
            "  # Remove the CWD from sys.path while we load stuff.\n"
          ],
          "name": "stderr"
        },
        {
          "output_type": "stream",
          "text": [
            "CURRENT LOSS: 0.5\n",
            "accuracy 0.4996944274681927\n",
            "epoch 1\n",
            "CURRENT LOSS: 0.5\n",
            "accuracy 0.4996944274681927\n",
            "epoch 2\n",
            "CURRENT LOSS: 0.5\n",
            "accuracy 0.4996944274681927\n",
            "epoch 3\n",
            "CURRENT LOSS: 0.5\n",
            "accuracy 0.4996944274681927\n",
            "epoch 4\n",
            "CURRENT LOSS: 0.5\n",
            "accuracy 0.4996944274681927\n"
          ],
          "name": "stdout"
        }
      ]
    },
    {
      "metadata": {
        "id": "rVJPAh9bv9mN",
        "colab_type": "code",
        "colab": {}
      },
      "cell_type": "code",
      "source": [
        "accuracy(test_data,test_label)"
      ],
      "execution_count": 0,
      "outputs": []
    },
    {
      "metadata": {
        "id": "ipGcQ35Hv9c1",
        "colab_type": "code",
        "colab": {}
      },
      "cell_type": "code",
      "source": [
        "torch.save(bow,'Task1A.mdl')\n",
        "from google.colab import files\n",
        "files.download(\"Task1A.mdl\")"
      ],
      "execution_count": 0,
      "outputs": []
    },
    {
      "metadata": {
        "id": "QyujP2Ggv9Sd",
        "colab_type": "code",
        "colab": {}
      },
      "cell_type": "code",
      "source": [
        ""
      ],
      "execution_count": 0,
      "outputs": []
    },
    {
      "metadata": {
        "id": "RuuERD_VwI5T",
        "colab_type": "code",
        "colab": {}
      },
      "cell_type": "code",
      "source": [
        ""
      ],
      "execution_count": 0,
      "outputs": []
    },
    {
      "metadata": {
        "id": "Ctzr2I1c5zTg",
        "colab_type": "code",
        "colab": {}
      },
      "cell_type": "code",
      "source": [
        ""
      ],
      "execution_count": 0,
      "outputs": []
    }
  ]
}