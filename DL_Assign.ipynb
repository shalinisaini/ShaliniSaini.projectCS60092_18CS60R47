{
  "nbformat": 4,
  "nbformat_minor": 0,
  "metadata": {
    "colab": {
      "name": "DL_Assign.ipynb",
      "version": "0.3.2",
      "provenance": [],
      "include_colab_link": true
    },
    "kernelspec": {
      "name": "python3",
      "display_name": "Python 3"
    },
    "accelerator": "GPU"
  },
  "cells": [
    {
      "cell_type": "markdown",
      "metadata": {
        "id": "view-in-github",
        "colab_type": "text"
      },
      "source": [
        "<a href=\"https://colab.research.google.com/github/shalinisaini/CS60092_9A_18CS60R47/blob/master/DL_Assign.ipynb\" target=\"_parent\"><img src=\"https://colab.research.google.com/assets/colab-badge.svg\" alt=\"Open In Colab\"/></a>"
      ]
    },
    {
      "metadata": {
        "id": "ItGPNUQ5r5Lt",
        "colab_type": "code",
        "colab": {}
      },
      "cell_type": "code",
      "source": [
        "import torch\n",
        "import pandas as pd\n",
        "import numpy as np\n",
        "import torch.nn as nn\n",
        "import torch.nn.functional as F\n",
        "from torch.autograd import Variable\n",
        "SEED =42\n",
        "torch.manual_seed(SEED)\n",
        "torch.cuda.manual_seed(SEED)\n",
        "\n",
        "import nltk\n",
        "from nltk.corpus import stopwords \n",
        "from nltk.tokenize import word_tokenize \n"
      ],
      "execution_count": 0,
      "outputs": []
    },
    {
      "metadata": {
        "id": "sENBdtHuNuOU",
        "colab_type": "code",
        "outputId": "b1d6124d-a400-42e7-e956-522a642f9ab2",
        "colab": {
          "base_uri": "https://localhost:8080/",
          "height": 104
        }
      },
      "cell_type": "code",
      "source": [
        "nltk.download('stopwords')\n",
        "nltk.download('punkt')"
      ],
      "execution_count": 242,
      "outputs": [
        {
          "output_type": "stream",
          "text": [
            "[nltk_data] Downloading package stopwords to /root/nltk_data...\n",
            "[nltk_data]   Package stopwords is already up-to-date!\n",
            "[nltk_data] Downloading package punkt to /root/nltk_data...\n",
            "[nltk_data]   Package punkt is already up-to-date!\n"
          ],
          "name": "stdout"
        },
        {
          "output_type": "execute_result",
          "data": {
            "text/plain": [
              "True"
            ]
          },
          "metadata": {
            "tags": []
          },
          "execution_count": 242
        }
      ]
    },
    {
      "metadata": {
        "id": "BPwxlUA3t7IE",
        "colab_type": "code",
        "colab": {}
      },
      "cell_type": "code",
      "source": [
        "\n",
        "url = 'https://raw.githubusercontent.com/binny-mathew/IITKGP_CS69002_Spring_2019/master/Dataset/Test_5K.csv'\n",
        "df1 = pd.read_csv(url, sep='\\t')"
      ],
      "execution_count": 0,
      "outputs": []
    },
    {
      "metadata": {
        "id": "yixXQWU_IHmF",
        "colab_type": "code",
        "colab": {}
      },
      "cell_type": "code",
      "source": [
        "url = 'https://raw.githubusercontent.com/binny-mathew/IITKGP_CS69002_Spring_2019/master/Dataset/Train_20K.csv'\n",
        "df2 = pd.read_csv(url, sep='\\t')"
      ],
      "execution_count": 0,
      "outputs": []
    },
    {
      "metadata": {
        "id": "mOWHbT7WuC2S",
        "colab_type": "code",
        "colab": {}
      },
      "cell_type": "code",
      "source": [
        "\n",
        "train_data = df2['text'].astype(str).tolist()\n",
        "train_label = df2['label'].astype(int)\n",
        "test_data = df1['text'].astype(str).tolist()\n",
        "test_label = df1['label'].astype(int)\n",
        "\n",
        "train_data = [x.lower() for x in train_data]\n",
        "test_data = [x.lower() for x in test_data]\n",
        "\n",
        "\n",
        " \n"
      ],
      "execution_count": 0,
      "outputs": []
    },
    {
      "metadata": {
        "id": "pScA5EvkGqwP",
        "colab_type": "code",
        "colab": {}
      },
      "cell_type": "code",
      "source": [
        "def preprocess(data):\n",
        "  stopword = set(stopwords.words('english'))\n",
        "  dt2=[]\n",
        "  for i in data:\n",
        "    words = i.split(\" \")\n",
        "    dt =[]\n",
        "    for j in words:\n",
        "      if(j not in stopword and not j.isdigit() and len(j)>1):\n",
        "        dt.append(j)\n",
        "    dt2.append(dt)\n",
        "  return dt2\n",
        "\n",
        "              "
      ],
      "execution_count": 0,
      "outputs": []
    },
    {
      "metadata": {
        "id": "4tQD3B1RHJ7Q",
        "colab_type": "code",
        "colab": {}
      },
      "cell_type": "code",
      "source": [
        "\n",
        "train_data = preprocess(train_data)\n",
        "test_data = preprocess(test_data)"
      ],
      "execution_count": 0,
      "outputs": []
    },
    {
      "metadata": {
        "id": "Saa3FQnKJfsE",
        "colab_type": "code",
        "outputId": "ccb071a7-b5c0-4214-c7d9-fc22487e83b5",
        "colab": {
          "base_uri": "https://localhost:8080/",
          "height": 34
        }
      },
      "cell_type": "code",
      "source": [
        "print(len(train_data))"
      ],
      "execution_count": 248,
      "outputs": [
        {
          "output_type": "stream",
          "text": [
            "17999\n"
          ],
          "name": "stdout"
        }
      ]
    },
    {
      "metadata": {
        "id": "VyLj6cWluKjL",
        "colab_type": "code",
        "colab": {}
      },
      "cell_type": "code",
      "source": [
        "def generate_word_ids(dataset):\n",
        "  word_to_ix = {}\n",
        "  print(dataset)\n",
        "  for sent in dataset:\n",
        "      for word in sent:\n",
        "          if word not in word_to_ix:\n",
        "              word_to_ix[word] = 1\n",
        "          else:\n",
        "              word_to_ix[word] = word_to_ix[word]+1\n",
        "  return word_to_ix"
      ],
      "execution_count": 0,
      "outputs": []
    },
    {
      "metadata": {
        "id": "SMasvXTyvPjH",
        "colab_type": "code",
        "outputId": "e3ce44c0-723e-41c0-f667-ade1bab66cbf",
        "colab": {
          "base_uri": "https://localhost:8080/",
          "height": 208
        }
      },
      "cell_type": "code",
      "source": [
        "word_to_ix = generate_word_ids(train_data)\n",
        "print(len(word_to_ix))\n",
        "NUM_LABELS = 2\n",
        "\n"
      ],
      "execution_count": 250,
      "outputs": [
        {
          "output_type": "stream",
          "text": [
            "IOPub data rate exceeded.\n",
            "The notebook server will temporarily stop sending output\n",
            "to the client in order to avoid crashing it.\n",
            "To change this limit, set the config variable\n",
            "`--NotebookApp.iopub_data_rate_limit`.\n",
            "\n",
            "Current values:\n",
            "NotebookApp.iopub_data_rate_limit=1000000.0 (bytes/sec)\n",
            "NotebookApp.rate_limit_window=3.0 (secs)\n",
            "\n"
          ],
          "name": "stderr"
        },
        {
          "output_type": "stream",
          "text": [
            "204915\n"
          ],
          "name": "stdout"
        }
      ]
    },
    {
      "metadata": {
        "id": "rrhRlLTrvT4e",
        "colab_type": "code",
        "outputId": "c32f136d-e577-4f9f-c6d0-5f735378187e",
        "colab": {
          "base_uri": "https://localhost:8080/",
          "height": 34
        }
      },
      "cell_type": "code",
      "source": [
        "list=[]\n",
        "for i in word_to_ix:\n",
        "  if(word_to_ix[i]>10):\n",
        "    list.append(i)\n",
        "word_to_ix={}\n",
        "for i in list:\n",
        "  word_to_ix[i] = len(word_to_ix)\n",
        "  \n",
        "VOCAB_SIZE = len(word_to_ix)\n",
        "print(VOCAB_SIZE)"
      ],
      "execution_count": 251,
      "outputs": [
        {
          "output_type": "stream",
          "text": [
            "19704\n"
          ],
          "name": "stdout"
        }
      ]
    },
    {
      "metadata": {
        "id": "LRhNz0Y0vnBR",
        "colab_type": "code",
        "colab": {}
      },
      "cell_type": "code",
      "source": [
        "class BOWClassifier(nn.Module):\n",
        "  def __init__(self, num_labels, vocab_size):\n",
        "    super(BOWClassifier, self).__init__()\n",
        "    self.dp=nn.Dropout(0.2)\n",
        "    self.dp1=nn.Dropout(0.3)\n",
        "    self.dp2=nn.Dropout(0.4)\n",
        "    self.lin = nn.Linear(vocab_size, 30)\n",
        "    self.lin4 = nn.Linear(30,20)\n",
        "    self.lin5 = nn.Linear(20,10)\n",
        "    self.lin6 = nn.Linear(10, num_labels)\n",
        "    \n",
        "    \n",
        "    \n",
        "  def forward(self, x):\n",
        "    x=F.relu(self.lin(x))\n",
        "    x=self.dp(x)\n",
        "    x=F.relu(self.lin4(x))\n",
        "    x=self.dp1(x)\n",
        "    x=F.relu(self.lin5(x))\n",
        "    x=self.dp2(x)\n",
        "    return F.softmax(self.lin6(x))\n",
        "  \n",
        "  \n",
        "  #task1a ---\n",
        "    #class BOWClassifier(nn.Module):\n",
        "    #def __init__(self, num_labels, vocab_size):\n",
        "    #super(BOWClassifier, self).__init__()\n",
        "    #self.lin = nn.Linear(vocab_size, 50)\n",
        "    #self.lin2 = nn.Linear(50, num_labels)\n",
        "    #def forward(self, x):\n",
        "     #return F.softmax(self.lin2(self.lin(x)))\n",
        "    \n",
        "    \n",
        "  #task1b ---\n",
        "    #class BOWClassifier(nn.Module):\n",
        "    #def __init__(self, num_labels, vocab_size):\n",
        "    #super(BOWClassifier, self).__init__()\n",
        "    #self.lin = nn.Linear(vocab_size, 100)\n",
        "    #self.lin2 = nn.Linear(100, num_labels)\n",
        "    #def forward(self, x):\n",
        "      #return F.softmax(self.lin2(self.lin(x)))\n",
        "    \n",
        "    \n",
        "  #task1c ---\n",
        "    #class BOWClassifier(nn.Module):\n",
        "    #def __init__(self, num_labels, vocab_size):\n",
        "    #super(BOWClassifier, self).__init__()\n",
        "    #self.lin = nn.Linear(vocab_size, 200)\n",
        "    #self.lin2 = nn.Linear(200, num_labels)\n",
        "    #def forward(self, x):\n",
        "      #return F.softmax(self.lin2(self.lin(x)))\n",
        "    \n",
        "    \n",
        "  #task1d ---\n",
        "    #class BOWClassifier(nn.Module):\n",
        "    #def __init__(self, num_labels, vocab_size):\n",
        "    #super(BOWClassifier, self).__init__()\n",
        "    #self.lin = nn.Linear(vocab_size, 500)\n",
        "    #self.lin2 = nn.Linear(500, num_labels)\n",
        "     #def forward(self, x):\n",
        "      #return F.softmax(self.lin2(self.lin(x)))\n",
        "  \n",
        " \n",
        "    \n",
        "  #task2a ---\n",
        "    #class BOWClassifier(nn.Module):\n",
        "    #def __init__(self, num_labels, vocab_size):\n",
        "    #super(BOWClassifier, self).__init__()\n",
        "    #self.lin = nn.Linear(vocab_size, 10)\n",
        "    #self.lin2 = nn.Linear(10, 10)\n",
        "    #self.lin3 = nn.Linear(10, num_labels)\n",
        "    #def forward(self, x):\n",
        "     #return F.softmax(self.lin3(self.lin2(self.lin(x))))\n",
        "  \n",
        "  #task2b ---\n",
        "    #class BOWClassifier(nn.Module):\n",
        "    #def __init__(self, num_labels, vocab_size):\n",
        "    #super(BOWClassifier, self).__init__()\n",
        "    #self.lin = nn.Linear(vocab_size, 20)\n",
        "    #self.lin2 = nn.Linear(20, 10)\n",
        "    #self.lin3 = nn.Linear(10, num_labels)\n",
        "    #def forward(self, x):\n",
        "      #return F.softmax(self.lin3(self.lin2(self.lin(x))))\n",
        "    \n",
        "   #task2c ---\n",
        "    #class BOWClassifier(nn.Module):\n",
        "    #def __init__(self, num_labels, vocab_size):\n",
        "    #super(BOWClassifier, self).__init__()\n",
        "    #self.lin = nn.Linear(vocab_size, 30)\n",
        "    #self.lin2 = nn.Linear(30, 30)\n",
        "    #self.lin3 = nn.Linear(30, num_labels)\n",
        "    #def forward(self, x):\n",
        "     #return F.softmax(self.lin3(self.lin2(self.lin(x))))\n",
        "    \n",
        "   #task2d ---\n",
        "    #class BOWClassifier(nn.Module):\n",
        "    #def __init__(self, num_labels, vocab_size):\n",
        "    #super(BOWClassifier, self).__init__()\n",
        "    #self.lin = nn.Linear(vocab_size, 50)\n",
        "    #self.lin2 = nn.Linear(50, 50)\n",
        "    #self.lin3 = nn.Linear(50, num_labels)\n",
        "    #def forward(self, x):\n",
        "      #return F.softmax(self.lin3(self.lin2(self.lin(x))))\n",
        "    \n",
        "   #task2e ---\n",
        "    #class BOWClassifier(nn.Module):\n",
        "    #def __init__(self, num_labels, vocab_size):\n",
        "    #super(BOWClassifier, self).__init__()\n",
        "    #self.lin = nn.Linear(vocab_size, 100)\n",
        "    #self.lin2 = nn.Linear(100, 50)\n",
        "    #self.lin3 = nn.Linear(50, num_labels)\n",
        "    #def forward(self, x):\n",
        "     #return F.softmax(self.lin3(self.lin2(self.lin(x))))\n",
        "    \n",
        "  #task3a----\n",
        "    #class BOWClassifier(nn.Module):\n",
        "    #def __init__(self, num_labels, vocab_size):\n",
        "    #super(BOWClassifier, self).__init__()\n",
        "    #self.lin = nn.Linear(vocab_size, 100)\n",
        "    #self.lin4 = nn.Linear(100,50)\n",
        "    #self.lin5 = nn.Linear(50,10)\n",
        "    #self.lin6 = nn.Linear(10, num_labels)\n",
        "    #def forward(self, x):\n",
        "      #return F.softmax(self.lin6(self.lin5(self.lin4(self.lin(x)))))\n",
        "  \n",
        "  \n",
        "   #task3b-----  \n",
        "    #class BOWClassifier(nn.Module):\n",
        "    #def __init__(self, num_labels, vocab_size):\n",
        "    #super(BOWClassifier, self).__init__()\n",
        "    #self.lin = nn.Linear(vocab_size, 200)\n",
        "    #self.lin4 = nn.Linear(200,100)\n",
        "    #self.lin5 = nn.Linear(100,10)\n",
        "    #self.lin6 = nn.Linear(10, num_labels)\n",
        "    \n",
        "   #def forward(self, x):\n",
        "    #return F.softmax(self.lin6(self.lin5(self.lin4(self.lin(x)))))\n",
        "  \n",
        "  \n",
        "  #task 4a----\n",
        "    #class BOWClassifier(nn.Module):\n",
        "    #def __init__(self, num_labels, vocab_size):\n",
        "    #super(BOWClassifier, self).__init__()\n",
        "    #self.dp=nn.Dropout(0.4)\n",
        "    #self.lin = nn.Linear(vocab_size, 30)\n",
        "    #self.lin4 = nn.Linear(30,20)\n",
        "    #self.lin5 = nn.Linear(20,10)\n",
        "    #self.lin6 = nn.Linear(10, num_labels)\n",
        "    #def forward(self, x):\n",
        "    #x=self.lin(x)\n",
        "    #x=self.dp(x)\n",
        "    #x=self.lin4(x)\n",
        "    #x=self.dp(x)\n",
        "    #x=self.lin5(x)\n",
        "    #x=self.dp(x)\n",
        "    #return F.softmax(self.lin6(x))\n",
        "  \n",
        "    \n",
        "  \n",
        " #task4b----\n",
        "    #class BOWClassifier(nn.Module):\n",
        "    #def __init__(self, num_labels, vocab_size):\n",
        "    #super(BOWClassifier, self).__init__()\n",
        "    #self.dp=nn.Dropout(0.1)\n",
        "    #self.dp1=nn.Dropout(0.2)\n",
        "    #self.lin = nn.Linear(vocab_size, 100)\n",
        "    #self.lin4 = nn.Linear(100,100)\n",
        "    #self.lin6 = nn.Linear(100, num_labels)\n",
        "    #def forward(self, x):\n",
        "    #x=F.relu(self.lin(x))\n",
        "    #x=self.dp(x)\n",
        "    #x=F.relu(self.lin4(x))\n",
        "    #x=self.dp1(x)\n",
        "    #return F.softmax(self.lin6(x))\n",
        "  \n",
        "   \n",
        " #task4c----\n",
        "    #class BOWClassifier(nn.Module):\n",
        "    #def __init__(self, num_labels, vocab_size):\n",
        "    #super(BOWClassifier, self).__init__()\n",
        "    #self.dp=nn.Dropout(0.1)\n",
        "    #self.dp1=nn.Dropout(0.2)\n",
        "    #self.lin = nn.Linear(vocab_size, 100)\n",
        "    #self.lin4 = nn.Linear(100,10)\n",
        "    #self.lin6 = nn.Linear(10, num_labels)\n",
        "    #def forward(self, x):\n",
        "    #x=F.relu(self.lin(x))\n",
        "    #x=self.dp(x)\n",
        "    #x=F.relu(self.lin4(x))\n",
        "    #x=self.dp1(x)\n",
        "    #return F.softmax(self.lin6(x))\n",
        "  \n",
        "    "
      ],
      "execution_count": 0,
      "outputs": []
    },
    {
      "metadata": {
        "id": "i0Z69E1kvpm0",
        "colab_type": "code",
        "colab": {}
      },
      "cell_type": "code",
      "source": [
        "def make_bow_vector(sentence, word_to_ix):\n",
        "    # create a vector of zeros of vocab size = len(word_to_idx)\n",
        "    vec = torch.zeros(len(word_to_ix))\n",
        "    for word in sentence:\n",
        "        if word not in word_to_ix:\n",
        "            #raise ValueError('Word',word,' not present in the dictionary. Sorry!')\n",
        "            c=1\n",
        "        else:\n",
        "            vec[word_to_ix[word]]+=1\n",
        "    return vec.view(1, -1)\n",
        "\n",
        "def make_target(label, label_to_ix):\n",
        "    return torch.LongTensor([label_to_ix[label]])\n"
      ],
      "execution_count": 0,
      "outputs": []
    },
    {
      "metadata": {
        "id": "eyfCXSu4vsd9",
        "colab_type": "code",
        "colab": {}
      },
      "cell_type": "code",
      "source": [
        "bow = BOWClassifier(NUM_LABELS, VOCAB_SIZE).cuda()\n"
      ],
      "execution_count": 0,
      "outputs": []
    },
    {
      "metadata": {
        "id": "eQHtkKk9vrsO",
        "colab_type": "code",
        "colab": {}
      },
      "cell_type": "code",
      "source": [
        "def accuracy(data,label):\n",
        "  count=0\n",
        "  tp =0\n",
        "  tn=0\n",
        "  fp=0\n",
        "  fn=0\n",
        "  for idx in range(len(data)):\n",
        "      bow_vec = Variable(make_bow_vector(data[idx], word_to_ix)).cuda()\n",
        "      labels = Variable(torch.LongTensor(label[idx])).cuda()\n",
        "      logprobs = bow(bow_vec).reshape(-1)\n",
        "      val,pred = logprobs.max(0)\n",
        "      #print(pred,label[idx]+1)\n",
        "      if(pred == label[idx] and pred==1):\n",
        "        count+=1\n",
        "        tp+=1\n",
        "        \n",
        "      elif(pred == label[idx] and pred==0):\n",
        "        tn+=1\n",
        "      \n",
        "      elif(pred !=label[idx] and pred==1):\n",
        "        fp+=1\n",
        "        \n",
        "      elif(pred !=label[idx] and pred==0):\n",
        "        fn+=1\n",
        "  \n",
        "  #precision =(float(tp)/(tp+fp))\n",
        "  #recall=(float(tp/(tp+fn)))\n",
        "  #print(\"precision {}\".format(float(tp)/(tp+fp)))\n",
        "  #print(\"recall {}\".format(float(tp/(tp+fn))))\n",
        "  #print(\"F1 Score {}\".format(float(2*((precision*recall)/(precision+recall)))))\n",
        "  print(\"accuracy {}\".format(float(count/len(data))))\n",
        "        \n"
      ],
      "execution_count": 0,
      "outputs": []
    },
    {
      "metadata": {
        "id": "IxveFExVvrap",
        "colab_type": "code",
        "colab": {}
      },
      "cell_type": "code",
      "source": [
        "# define a loss function and an optimizer\n",
        "loss_function = nn.CrossEntropyLoss()\n",
        "opt = torch.optim.SGD(bow.parameters(), lr = 0.1)"
      ],
      "execution_count": 0,
      "outputs": []
    },
    {
      "metadata": {
        "id": "35kq5wTfv9yo",
        "colab_type": "code",
        "colab": {}
      },
      "cell_type": "code",
      "source": [
        "# the training loop\n",
        "for epoch in range(5):\n",
        "    print(\"epoch\",epoch)\n",
        "    for idx in range(len(train_data)):\n",
        "        # get the training data\n",
        "        bow.zero_grad()\n",
        "        #print(train_data[idx])\n",
        "        #print(train_label[idx])\n",
        "        bow_vec = Variable(make_bow_vector(train_data[idx], word_to_ix)).cuda()\n",
        "        label  = Variable(torch.LongTensor([train_label[idx]])).cuda()\n",
        "        #print(bow_vec,label,train_label[idx])\n",
        "        probs = bow(bow_vec) # forward pass\n",
        "        #print(probs)\n",
        "        loss = loss_function(probs, label)\n",
        "        loss.backward()\n",
        "        opt.step()\n",
        "    print('CURRENT LOSS: {}'.format(loss.data))\n",
        "    accuracy(train_data,train_label)\n"
      ],
      "execution_count": 0,
      "outputs": []
    },
    {
      "metadata": {
        "id": "rVJPAh9bv9mN",
        "colab_type": "code",
        "outputId": "296d5e62-8118-4f6a-a2a0-8daf115e5a5b",
        "colab": {
          "base_uri": "https://localhost:8080/",
          "height": 124
        }
      },
      "cell_type": "code",
      "source": [
        "accuracy(test_data,test_label)"
      ],
      "execution_count": 264,
      "outputs": [
        {
          "output_type": "stream",
          "text": [
            "/usr/local/lib/python3.6/dist-packages/ipykernel_launcher.py:21: UserWarning: Implicit dimension choice for softmax has been deprecated. Change the call to include dim=X as an argument.\n"
          ],
          "name": "stderr"
        },
        {
          "output_type": "stream",
          "text": [
            "precision 0.503500700140028\n",
            "recall 0.9996028594122319\n",
            "F1 Score 0.6696820540109085\n",
            "accuracy 0.5034\n"
          ],
          "name": "stdout"
        }
      ]
    },
    {
      "metadata": {
        "id": "ipGcQ35Hv9c1",
        "colab_type": "code",
        "outputId": "48536b26-b47d-4330-b555-8b804a986d61",
        "colab": {
          "resources": {
            "http://localhost:15493/content/Task5A.mdl": {
              "data": "CjwhRE9DVFlQRSBodG1sPgo8aHRtbCBsYW5nPWVuPgogIDxtZXRhIGNoYXJzZXQ9dXRmLTg+CiAgPG1ldGEgbmFtZT12aWV3cG9ydCBjb250ZW50PSJpbml0aWFsLXNjYWxlPTEsIG1pbmltdW0tc2NhbGU9MSwgd2lkdGg9ZGV2aWNlLXdpZHRoIj4KICA8dGl0bGU+RXJyb3IgNTAwIChJbnRlcm5hbCBTZXJ2ZXIgRXJyb3IpISExPC90aXRsZT4KICA8c3R5bGU+CiAgICAqe21hcmdpbjowO3BhZGRpbmc6MH1odG1sLGNvZGV7Zm9udDoxNXB4LzIycHggYXJpYWwsc2Fucy1zZXJpZn1odG1se2JhY2tncm91bmQ6I2ZmZjtjb2xvcjojMjIyO3BhZGRpbmc6MTVweH1ib2R5e21hcmdpbjo3JSBhdXRvIDA7bWF4LXdpZHRoOjM5MHB4O21pbi1oZWlnaHQ6MTgwcHg7cGFkZGluZzozMHB4IDAgMTVweH0qID4gYm9keXtiYWNrZ3JvdW5kOnVybCgvL3d3dy5nb29nbGUuY29tL2ltYWdlcy9lcnJvcnMvcm9ib3QucG5nKSAxMDAlIDVweCBuby1yZXBlYXQ7cGFkZGluZy1yaWdodDoyMDVweH1we21hcmdpbjoxMXB4IDAgMjJweDtvdmVyZmxvdzpoaWRkZW59aW5ze2NvbG9yOiM3Nzc7dGV4dC1kZWNvcmF0aW9uOm5vbmV9YSBpbWd7Ym9yZGVyOjB9QG1lZGlhIHNjcmVlbiBhbmQgKG1heC13aWR0aDo3NzJweCl7Ym9keXtiYWNrZ3JvdW5kOm5vbmU7bWFyZ2luLXRvcDowO21heC13aWR0aDpub25lO3BhZGRpbmctcmlnaHQ6MH19I2xvZ297YmFja2dyb3VuZDp1cmwoLy93d3cuZ29vZ2xlLmNvbS9pbWFnZXMvbG9nb3MvZXJyb3JwYWdlL2Vycm9yX2xvZ28tMTUweDU0LnBuZykgbm8tcmVwZWF0O21hcmdpbi1sZWZ0Oi01cHh9QG1lZGlhIG9ubHkgc2NyZWVuIGFuZCAobWluLXJlc29sdXRpb246MTkyZHBpKXsjbG9nb3tiYWNrZ3JvdW5kOnVybCgvL3d3dy5nb29nbGUuY29tL2ltYWdlcy9sb2dvcy9lcnJvcnBhZ2UvZXJyb3JfbG9nby0xNTB4NTQtMngucG5nKSBuby1yZXBlYXQgMCUgMCUvMTAwJSAxMDAlOy1tb3otYm9yZGVyLWltYWdlOnVybCgvL3d3dy5nb29nbGUuY29tL2ltYWdlcy9sb2dvcy9lcnJvcnBhZ2UvZXJyb3JfbG9nby0xNTB4NTQtMngucG5nKSAwfX1AbWVkaWEgb25seSBzY3JlZW4gYW5kICgtd2Via2l0LW1pbi1kZXZpY2UtcGl4ZWwtcmF0aW86Mil7I2xvZ297YmFja2dyb3VuZDp1cmwoLy93d3cuZ29vZ2xlLmNvbS9pbWFnZXMvbG9nb3MvZXJyb3JwYWdlL2Vycm9yX2xvZ28tMTUweDU0LTJ4LnBuZykgbm8tcmVwZWF0Oy13ZWJraXQtYmFja2dyb3VuZC1zaXplOjEwMCUgMTAwJX19I2xvZ297ZGlzcGxheTppbmxpbmUtYmxvY2s7aGVpZ2h0OjU0cHg7d2lkdGg6MTUwcHh9CiAgPC9zdHlsZT4KICA8YSBocmVmPS8vd3d3Lmdvb2dsZS5jb20vPjxzcGFuIGlkPWxvZ28gYXJpYS1sYWJlbD1Hb29nbGU+PC9zcGFuPjwvYT4KICA8cD48Yj41MDAuPC9iPiA8aW5zPlRoYXTigJlzIGFuIGVycm9yLjwvaW5zPgogIDxwPiAgPGlucz5UaGF04oCZcyBhbGwgd2Uga25vdy48L2lucz4K",
              "ok": false,
              "headers": [
                [
                  "content-length",
                  "1461"
                ],
                [
                  "content-type",
                  "text/html; charset=utf-8"
                ]
              ],
              "status": 500,
              "status_text": "Internal Server Error"
            }
          },
          "base_uri": "https://localhost:8080/",
          "height": 72
        }
      },
      "cell_type": "code",
      "source": [
        "torch.save(bow.cpu(),'Task5A.mdl')\n",
        "from google.colab import files\n",
        "files.download(\"Task5A.mdl\")"
      ],
      "execution_count": 0,
      "outputs": [
        {
          "output_type": "stream",
          "text": [
            "/usr/local/lib/python3.6/dist-packages/torch/serialization.py:251: UserWarning: Couldn't retrieve source code for container of type BOWClassifier. It won't be checked for correctness upon loading.\n",
            "  \"type \" + obj.__name__ + \". It won't be checked \"\n"
          ],
          "name": "stderr"
        }
      ]
    },
    {
      "metadata": {
        "id": "QyujP2Ggv9Sd",
        "colab_type": "code",
        "colab": {}
      },
      "cell_type": "code",
      "source": [
        ""
      ],
      "execution_count": 0,
      "outputs": []
    },
    {
      "metadata": {
        "id": "RuuERD_VwI5T",
        "colab_type": "code",
        "colab": {}
      },
      "cell_type": "code",
      "source": [
        ""
      ],
      "execution_count": 0,
      "outputs": []
    },
    {
      "metadata": {
        "id": "Ctzr2I1c5zTg",
        "colab_type": "code",
        "colab": {}
      },
      "cell_type": "code",
      "source": [
        ""
      ],
      "execution_count": 0,
      "outputs": []
    }
  ]
}