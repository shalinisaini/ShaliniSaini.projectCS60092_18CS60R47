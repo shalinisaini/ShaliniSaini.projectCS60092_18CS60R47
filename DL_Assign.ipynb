{
  "nbformat": 4,
  "nbformat_minor": 0,
  "metadata": {
    "colab": {
      "name": "DL_Assign.ipynb",
      "version": "0.3.2",
      "provenance": [],
      "include_colab_link": true
    },
    "kernelspec": {
      "name": "python3",
      "display_name": "Python 3"
    },
    "accelerator": "GPU"
  },
  "cells": [
    {
      "cell_type": "markdown",
      "metadata": {
        "id": "view-in-github",
        "colab_type": "text"
      },
      "source": [
        "<a href=\"https://colab.research.google.com/github/shalinisaini/CS60092_9A_18CS60R47/blob/master/DL_Assign.ipynb\" target=\"_parent\"><img src=\"https://colab.research.google.com/assets/colab-badge.svg\" alt=\"Open In Colab\"/></a>"
      ]
    },
    {
      "metadata": {
        "id": "ItGPNUQ5r5Lt",
        "colab_type": "code",
        "colab": {}
      },
      "cell_type": "code",
      "source": [
        "import torch\n",
        "import pandas as pd\n",
        "import numpy as np\n",
        "import torch.nn as nn\n",
        "import torch.nn.functional as F\n",
        "from torch.autograd import Variable\n",
        "SEED =42\n",
        "torch.manual_seed(SEED)\n",
        "torch.cuda.manual_seed(SEED)\n",
        "\n",
        "import nltk\n",
        "from nltk.corpus import stopwords \n",
        "from nltk.tokenize import word_tokenize \n"
      ],
      "execution_count": 0,
      "outputs": []
    },
    {
      "metadata": {
        "id": "sENBdtHuNuOU",
        "colab_type": "code",
        "outputId": "fc62ccb3-81ab-4cea-d246-d821d0e35f88",
        "colab": {
          "base_uri": "https://localhost:8080/",
          "height": 104
        }
      },
      "cell_type": "code",
      "source": [
        "nltk.download('stopwords')\n",
        "nltk.download('punkt')"
      ],
      "execution_count": 127,
      "outputs": [
        {
          "output_type": "stream",
          "text": [
            "[nltk_data] Downloading package stopwords to /root/nltk_data...\n",
            "[nltk_data]   Package stopwords is already up-to-date!\n",
            "[nltk_data] Downloading package punkt to /root/nltk_data...\n",
            "[nltk_data]   Package punkt is already up-to-date!\n"
          ],
          "name": "stdout"
        },
        {
          "output_type": "execute_result",
          "data": {
            "text/plain": [
              "True"
            ]
          },
          "metadata": {
            "tags": []
          },
          "execution_count": 127
        }
      ]
    },
    {
      "metadata": {
        "id": "BPwxlUA3t7IE",
        "colab_type": "code",
        "colab": {}
      },
      "cell_type": "code",
      "source": [
        "\n",
        "url = 'https://raw.githubusercontent.com/binny-mathew/IITKGP_CS69002_Spring_2019/master/Dataset/Test_5K.csv'\n",
        "df1 = pd.read_csv(url, sep='\\t')"
      ],
      "execution_count": 0,
      "outputs": []
    },
    {
      "metadata": {
        "id": "yixXQWU_IHmF",
        "colab_type": "code",
        "colab": {}
      },
      "cell_type": "code",
      "source": [
        "url = 'https://raw.githubusercontent.com/binny-mathew/IITKGP_CS69002_Spring_2019/master/Dataset/Train_20K.csv'\n",
        "df2 = pd.read_csv(url, sep='\\t')"
      ],
      "execution_count": 0,
      "outputs": []
    },
    {
      "metadata": {
        "id": "mOWHbT7WuC2S",
        "colab_type": "code",
        "colab": {}
      },
      "cell_type": "code",
      "source": [
        "\n",
        "train_data = df2['text'].astype(str).tolist()\n",
        "train_label = df2['label'].astype(int)\n",
        "test_data = df1['text'].astype(str).tolist()\n",
        "test_label = df1['label'].astype(int)\n",
        "\n",
        "train_data = [x.lower() for x in train_data]\n",
        "test_data = [x.lower() for x in test_data]\n",
        "\n",
        "\n",
        " \n"
      ],
      "execution_count": 0,
      "outputs": []
    },
    {
      "metadata": {
        "id": "pScA5EvkGqwP",
        "colab_type": "code",
        "colab": {}
      },
      "cell_type": "code",
      "source": [
        "def preprocess(data):\n",
        "  stopword = set(stopwords.words('english'))\n",
        "  dt2=[]\n",
        "  for i in data:\n",
        "    words = i.split(\" \")\n",
        "    dt =[]\n",
        "    for j in words:\n",
        "      if(j not in stopword and not j.isdigit() and len(j)>1):\n",
        "        dt.append(j)\n",
        "    dt2.append(dt)\n",
        "  return dt2\n",
        "\n",
        "              "
      ],
      "execution_count": 0,
      "outputs": []
    },
    {
      "metadata": {
        "id": "4tQD3B1RHJ7Q",
        "colab_type": "code",
        "colab": {}
      },
      "cell_type": "code",
      "source": [
        "\n",
        "train_data = preprocess(train_data)\n",
        "test_data = preprocess(test_data)"
      ],
      "execution_count": 0,
      "outputs": []
    },
    {
      "metadata": {
        "id": "lQ5Ow-k-oxVK",
        "colab_type": "code",
        "outputId": "69f04b31-8db2-449b-d8b8-5cbc0c8119e3",
        "colab": {
          "base_uri": "https://localhost:8080/",
          "height": 54
        }
      },
      "cell_type": "code",
      "source": [
        "print(train_data[0])"
      ],
      "execution_count": 133,
      "outputs": [
        {
          "output_type": "stream",
          "text": [
            "['john', 'waters', 'given', 'us', 'genuinely', 'enjoyable', 'film.', 'certainly', 'without', 'shocking', 'waters-esque', 'moments,', 'tamer', 'older', 'culty', 'stuff,', '\"pink', 'flamingoes\".', '\"pecker\"', 'harkens', 'back', \"john's\", 'early', 'mainstream', 'stage', 'reminds', 'viewer', 'kind', 'humor', 'evident', '\"polyester\".', 'overall,', 'really', 'fun', 'comedy', 'great', 'moments!']\n"
          ],
          "name": "stdout"
        }
      ]
    },
    {
      "metadata": {
        "id": "Saa3FQnKJfsE",
        "colab_type": "code",
        "outputId": "755b08bd-bba2-4d2a-e623-3299142b1bf3",
        "colab": {
          "base_uri": "https://localhost:8080/",
          "height": 34
        }
      },
      "cell_type": "code",
      "source": [
        "print(len(train_data))"
      ],
      "execution_count": 134,
      "outputs": [
        {
          "output_type": "stream",
          "text": [
            "17999\n"
          ],
          "name": "stdout"
        }
      ]
    },
    {
      "metadata": {
        "id": "zWLqeiAimVJ7",
        "colab_type": "code",
        "outputId": "facae3a7-801b-41e0-ec3b-7d0a1ac8ecac",
        "colab": {
          "base_uri": "https://localhost:8080/",
          "height": 54
        }
      },
      "cell_type": "code",
      "source": [
        "#for task6--\n",
        "\n",
        "ans=[]\n",
        "for line in train_data:\n",
        "    #print(line)\n",
        "    arr = line\n",
        "    tmp=[]\n",
        "    for i in range(len(arr)-1):\n",
        "        tmp.append([arr[i], arr[i+1]])\n",
        "        #del(tmp[-1:])\n",
        "    #word_to_ix.append(ans)\n",
        "    ans.append(tmp)\n",
        "print(train_data[0])\n"
      ],
      "execution_count": 90,
      "outputs": [
        {
          "output_type": "stream",
          "text": [
            "['john', 'waters', 'given', 'us', 'genuinely', 'enjoyable', 'film.', 'certainly', 'without', 'shocking', 'waters-esque', 'moments,', 'tamer', 'older', 'culty', 'stuff,', '\"pink', 'flamingoes\".', '\"pecker\"', 'harkens', 'back', \"john's\", 'early', 'mainstream', 'stage', 'reminds', 'viewer', 'kind', 'humor', 'evident', '\"polyester\".', 'overall,', 'really', 'fun', 'comedy', 'great', 'moments!']\n"
          ],
          "name": "stdout"
        }
      ]
    },
    {
      "metadata": {
        "id": "_9hM2iN9wEn6",
        "colab_type": "code",
        "outputId": "e3eb2feb-5f18-4671-8175-e94360af5b62",
        "colab": {
          "base_uri": "https://localhost:8080/",
          "height": 34
        }
      },
      "cell_type": "code",
      "source": [
        "#for task6--\n",
        "ans1=[]\n",
        "for a in ans:\n",
        "  for b in a:\n",
        "    ans1.append(b[0]+\" \"+b[1])\n",
        "print(ans1[0])"
      ],
      "execution_count": 91,
      "outputs": [
        {
          "output_type": "stream",
          "text": [
            "john waters\n"
          ],
          "name": "stdout"
        }
      ]
    },
    {
      "metadata": {
        "id": "VyLj6cWluKjL",
        "colab_type": "code",
        "colab": {}
      },
      "cell_type": "code",
      "source": [
        "def generate_word_ids(dataset):\n",
        "  word_to_ix = {}\n",
        "  print(dataset)\n",
        "  for sent in dataset:\n",
        "      for word in sent:\n",
        "          if word not in word_to_ix:\n",
        "              word_to_ix[word] = 1\n",
        "          else:\n",
        "              word_to_ix[word] = word_to_ix[word]+1\n",
        "  return word_to_ix"
      ],
      "execution_count": 0,
      "outputs": []
    },
    {
      "metadata": {
        "id": "AOIuqnJEBjdt",
        "colab_type": "code",
        "colab": {}
      },
      "cell_type": "code",
      "source": [
        "#for task6\n",
        "def generate_word_idsbg(dataset):\n",
        "  word_to_bix = {}\n",
        "  print(dataset)\n",
        "  for sent in dataset:\n",
        "      for word in sent:\n",
        "          if word not in word_to_bix:\n",
        "              word_to_bix[word] = 1\n",
        "          else:\n",
        "              word_to_bix[word] = word_to_bix[word]+1\n",
        "  a={}\n",
        "  for word in word_to_bix:\n",
        "    if word_to_bix[word]>10:\n",
        "      a[word]=word_to_bix[word]\n",
        "  \n",
        "  return a"
      ],
      "execution_count": 0,
      "outputs": []
    },
    {
      "metadata": {
        "id": "SMasvXTyvPjH",
        "colab_type": "code",
        "outputId": "31f12df1-26ef-4c5c-e6b6-f6f61f932099",
        "colab": {
          "base_uri": "https://localhost:8080/",
          "height": 208
        }
      },
      "cell_type": "code",
      "source": [
        "word_to_ix = generate_word_ids(train_data)\n",
        "print(len(word_to_ix))\n",
        "NUM_LABELS = 2\n",
        "\n"
      ],
      "execution_count": 136,
      "outputs": [
        {
          "output_type": "stream",
          "text": [
            "IOPub data rate exceeded.\n",
            "The notebook server will temporarily stop sending output\n",
            "to the client in order to avoid crashing it.\n",
            "To change this limit, set the config variable\n",
            "`--NotebookApp.iopub_data_rate_limit`.\n",
            "\n",
            "Current values:\n",
            "NotebookApp.iopub_data_rate_limit=1000000.0 (bytes/sec)\n",
            "NotebookApp.rate_limit_window=3.0 (secs)\n",
            "\n"
          ],
          "name": "stderr"
        },
        {
          "output_type": "stream",
          "text": [
            "204915\n"
          ],
          "name": "stdout"
        }
      ]
    },
    {
      "metadata": {
        "id": "bhfQxdGv7wcQ",
        "colab_type": "code",
        "colab": {}
      },
      "cell_type": "code",
      "source": [
        "import pickle\n",
        "\n",
        "def save(fnmae,d):\n",
        "  with open(fnmae,\"wb\")as f2:\n",
        "    pickle.dump(d,f2)\n",
        "    \n",
        "  from google.colab import files\n",
        "  files.download(fnmae)"
      ],
      "execution_count": 0,
      "outputs": []
    },
    {
      "metadata": {
        "id": "OWM2fc769ks-",
        "colab_type": "code",
        "colab": {}
      },
      "cell_type": "code",
      "source": [
        "from google.colab import files\n",
        "files.download('vocab.pkl')"
      ],
      "execution_count": 0,
      "outputs": []
    },
    {
      "metadata": {
        "id": "eSH0N4J88n5V",
        "colab_type": "code",
        "colab": {}
      },
      "cell_type": "code",
      "source": [
        "save('vocab.pkl',word_to_ix)"
      ],
      "execution_count": 0,
      "outputs": []
    },
    {
      "metadata": {
        "id": "rx1uv-wuGYMq",
        "colab_type": "code",
        "outputId": "3ffcb2a7-29d4-4f49-f207-13122bcd2d8f",
        "colab": {
          "base_uri": "https://localhost:8080/",
          "height": 208
        }
      },
      "cell_type": "code",
      "source": [
        "#for task6--\n",
        "word_to_bix = generate_word_idsbg(ans1)\n",
        "print(len(word_to_bix))\n",
        "vocab_size_b = len(word_to_bix)"
      ],
      "execution_count": 93,
      "outputs": [
        {
          "output_type": "stream",
          "text": [
            "IOPub data rate exceeded.\n",
            "The notebook server will temporarily stop sending output\n",
            "to the client in order to avoid crashing it.\n",
            "To change this limit, set the config variable\n",
            "`--NotebookApp.iopub_data_rate_limit`.\n",
            "\n",
            "Current values:\n",
            "NotebookApp.iopub_data_rate_limit=1000000.0 (bytes/sec)\n",
            "NotebookApp.rate_limit_window=3.0 (secs)\n",
            "\n"
          ],
          "name": "stderr"
        },
        {
          "output_type": "stream",
          "text": [
            "111\n"
          ],
          "name": "stdout"
        }
      ]
    },
    {
      "metadata": {
        "id": "rrhRlLTrvT4e",
        "colab_type": "code",
        "outputId": "4928d0a0-e9c5-4d85-dd11-49098460a059",
        "colab": {
          "base_uri": "https://localhost:8080/",
          "height": 34
        }
      },
      "cell_type": "code",
      "source": [
        "list=[]\n",
        "for i in word_to_ix:\n",
        "  if(word_to_ix[i]>10):\n",
        "    list.append(i)\n",
        "word_to_ix={}\n",
        "for i in list:\n",
        "  word_to_ix[i] = len(word_to_ix)\n",
        "  \n",
        "VOCAB_SIZE = len(word_to_ix)\n",
        "print(VOCAB_SIZE)"
      ],
      "execution_count": 143,
      "outputs": [
        {
          "output_type": "stream",
          "text": [
            "19704\n"
          ],
          "name": "stdout"
        }
      ]
    },
    {
      "metadata": {
        "id": "BmBZzS1Az1_x",
        "colab_type": "code",
        "colab": {}
      },
      "cell_type": "code",
      "source": [
        "import pickle\n",
        "with open(\"vocab.pkl\",\"rb\")as o:\n",
        "  a = pickle.load(o)"
      ],
      "execution_count": 0,
      "outputs": []
    },
    {
      "metadata": {
        "id": "Joiq1tZg0tI1",
        "colab_type": "code",
        "colab": {}
      },
      "cell_type": "code",
      "source": [
        ""
      ],
      "execution_count": 0,
      "outputs": []
    },
    {
      "metadata": {
        "id": "LRhNz0Y0vnBR",
        "colab_type": "code",
        "colab": {}
      },
      "cell_type": "code",
      "source": [
        "\n",
        "  \n",
        "\n",
        "class Task6(nn.Module):\n",
        "  def __init__(self, num_labels, vocab_size_b):\n",
        "    super(Task6, self).__init__()\n",
        "    self.dp=nn.Dropout(0.01)\n",
        "    self.dp1=nn.Dropout(0.01)\n",
        "    self.dp2=nn.Dropout(0.01)\n",
        "    self.lin = nn.Linear(vocab_size_b, 30)\n",
        "    self.lin4 = nn.Linear(30,20)\n",
        "    self.lin5 = nn.Linear(20,10)\n",
        "    self.lin6 = nn.Linear(10, num_labels)\n",
        "    \n",
        "    \n",
        "    \n",
        "  def forward(self, x):\n",
        "    x=(self.lin(x))\n",
        "    x=self.dp(x)\n",
        "    x=(self.lin4(x))\n",
        "    x=self.dp1(x)\n",
        "    x=(self.lin5(x))\n",
        "    x=self.dp2(x)\n",
        "    return F.softmax(self.lin6(x))\n",
        "  \n",
        "  \n",
        "  #task1a ---\n",
        "class Task1a(nn.Module):\n",
        "  def __init__(self, num_labels, vocab_size):\n",
        "    super(Task1a, self).__init__()\n",
        "    self.lin = nn.Linear(vocab_size, 50)\n",
        "    self.lin2 = nn.Linear(50, num_labels)\n",
        "    \n",
        "  def forward(self, x):\n",
        "     return F.softmax(self.lin2(self.lin(x)))\n",
        "    \n",
        "    \n",
        "  #task1b ---\n",
        "class Task1b(nn.Module):\n",
        "  def __init__(self, num_labels, vocab_size):\n",
        "    super(Task1b, self).__init__()\n",
        "    self.lin = nn.Linear(vocab_size, 100)\n",
        "    self.lin2 = nn.Linear(100, num_labels)\n",
        "  def forward(self, x):\n",
        "    return F.softmax(self.lin2(self.lin(x)))\n",
        "    \n",
        "    \n",
        "  #task1c ---\n",
        "class Task1c(nn.Module):\n",
        "  def __init__(self, num_labels, vocab_size):\n",
        "    super(Task1c, self).__init__()\n",
        "    self.lin = nn.Linear(vocab_size, 200)\n",
        "    self.lin2 = nn.Linear(200, num_labels)\n",
        "  def forward(self, x):\n",
        "    return F.softmax(self.lin2(self.lin(x)))\n",
        "    \n",
        "    \n",
        "  #task1d ---\n",
        "class Task1d(nn.Module):\n",
        "  def __init__(self, num_labels, vocab_size):\n",
        "    super(Task1d, self).__init__()\n",
        "    self.lin = nn.Linear(vocab_size, 500)\n",
        "    self.lin2 = nn.Linear(500, num_labels)\n",
        "  def forward(self, x):\n",
        "    return F.softmax(self.lin2(self.lin(x)))\n",
        "  \n",
        " \n",
        "    \n",
        "  #task2a ---\n",
        "class Task2a(nn.Module):\n",
        "  def __init__(self, num_labels, vocab_size):\n",
        "    super(Task2a, self).__init__()\n",
        "    self.lin = nn.Linear(vocab_size, 10)\n",
        "    self.lin2 = nn.Linear(10, 10)\n",
        "    self.lin3 = nn.Linear(10, num_labels)\n",
        "  def forward(self, x):\n",
        "    return F.softmax(self.lin3(self.lin2(self.lin(x))))\n",
        "  \n",
        "  #task2b ---\n",
        "class Task2b(nn.Module):\n",
        "  def __init__(self, num_labels, vocab_size):\n",
        "    super(Task2b, self).__init__()\n",
        "    self.lin = nn.Linear(vocab_size, 20)\n",
        "    self.lin2 = nn.Linear(20, 10)\n",
        "    self.lin3 = nn.Linear(10, num_labels)\n",
        "  def forward(self, x):\n",
        "     return F.softmax(self.lin3(self.lin2(self.lin(x))))\n",
        "    \n",
        "   #task2c ---\n",
        "class Task2c(nn.Module):\n",
        "  def __init__(self, num_labels, vocab_size):\n",
        "    super(Task2c, self).__init__()\n",
        "    self.lin = nn.Linear(vocab_size, 30)\n",
        "    self.lin2 = nn.Linear(30, 30)\n",
        "    self.lin3 = nn.Linear(30, num_labels)\n",
        "  def forward(self, x):\n",
        "    return F.softmax(self.lin3(self.lin2(self.lin(x))))\n",
        "    \n",
        "   #task2d ---\n",
        "class Task2d(nn.Module):\n",
        "  def __init__(self, num_labels, vocab_size):\n",
        "    super(Task2d, self).__init__()\n",
        "    self.lin = nn.Linear(vocab_size, 50)\n",
        "    self.lin2 = nn.Linear(50, 50)\n",
        "    self.lin3 = nn.Linear(50, num_labels)\n",
        "  def forward(self, x):\n",
        "    return F.softmax(self.lin3(self.lin2(self.lin(x))))\n",
        "    \n",
        "   #task2e ---\n",
        "class Task2e(nn.Module):\n",
        "  def __init__(self, num_labels, vocab_size):\n",
        "    super(Task2e, self).__init__()\n",
        "    self.lin = nn.Linear(vocab_size, 100)\n",
        "    self.lin2 = nn.Linear(100, 50)\n",
        "    self.lin3 = nn.Linear(50, num_labels)\n",
        "  def forward(self, x):\n",
        "    return F.softmax(self.lin3(self.lin2(self.lin(x))))\n",
        "    \n",
        "  #task3a----\n",
        "class Task3a(nn.Module):\n",
        "  def __init__(self, num_labels, vocab_size):\n",
        "    super(Task3a, self).__init__()\n",
        "    self.lin = nn.Linear(vocab_size, 100)\n",
        "    self.lin4 = nn.Linear(100,50)\n",
        "    self.lin5 = nn.Linear(50,10)\n",
        "    self.lin6 = nn.Linear(10, num_labels)\n",
        "  def forward(self, x):\n",
        "      return F.softmax(self.lin6(self.lin5(self.lin4(self.lin(x)))))\n",
        "  \n",
        "  \n",
        "   #task3b-----  \n",
        "class Task3b(nn.Module):\n",
        "  def __init__(self, num_labels, vocab_size):\n",
        "    super(Task3b, self).__init__()\n",
        "    self.lin = nn.Linear(vocab_size, 200)\n",
        "    self.lin4 = nn.Linear(200,100)\n",
        "    self.lin5 = nn.Linear(100,10)\n",
        "    self.lin6 = nn.Linear(10, num_labels)\n",
        "    \n",
        "  def forward(self, x):\n",
        "    return F.softmax(self.lin6(self.lin5(self.lin4(self.lin(x)))))\n",
        "  \n",
        "  \n",
        "  #task 4a----\n",
        "class Task4a(nn.Module):\n",
        "  def __init__(self, num_labels, vocab_size):\n",
        "    super(Task4a, self).__init__()\n",
        "    self.dp=nn.Dropout(0.4)\n",
        "    self.lin = nn.Linear(vocab_size, 30)\n",
        "    self.lin4 = nn.Linear(30,20)\n",
        "    self.lin5 = nn.Linear(20,10)\n",
        "    self.lin6 = nn.Linear(10, num_labels)\n",
        "  def forward(self, x):\n",
        "    x=self.lin(x)\n",
        "    x=self.dp(x)\n",
        "    x=self.lin4(x)\n",
        "    x=self.dp(x)\n",
        "    x=self.lin5(x)\n",
        "    x=self.dp(x)\n",
        "    return F.softmax(self.lin6(x))\n",
        "  \n",
        "    \n",
        "  \n",
        " #task4b----\n",
        "class Task4b(nn.Module):\n",
        "  def __init__(self, num_labels, vocab_size):\n",
        "    super(Task4b, self).__init__()\n",
        "    self.dp=nn.Dropout(0.1)\n",
        "    self.dp1=nn.Dropout(0.2)\n",
        "    self.lin = nn.Linear(vocab_size, 100)\n",
        "    self.lin4 = nn.Linear(100,100)\n",
        "    self.lin6 = nn.Linear(100, num_labels)\n",
        "  def forward(self, x):\n",
        "    x=F.relu(self.lin(x))\n",
        "    x=self.dp(x)\n",
        "    x=F.relu(self.lin4(x))\n",
        "    x=self.dp1(x)\n",
        "    return F.softmax(self.lin6(x))\n",
        "  \n",
        "   \n",
        " #task4c----\n",
        "class Task4c(nn.Module):\n",
        "  def __init__(self, num_labels, vocab_size):\n",
        "    super(Task4c, self).__init__()\n",
        "    self.dp=nn.Dropout(0.1)\n",
        "    self.dp1=nn.Dropout(0.2)\n",
        "    self.lin = nn.Linear(vocab_size, 100)\n",
        "    self.lin4 = nn.Linear(100,10)\n",
        "    self.lin6 = nn.Linear(10, num_labels)\n",
        "  def forward(self, x):\n",
        "    x=F.relu(self.lin(x))\n",
        "    x=self.dp(x)\n",
        "    x=F.relu(self.lin4(x))\n",
        "    x=self.dp1(x)\n",
        "    return F.softmax(self.lin6(x))\n",
        "    \n",
        " #task5a----  \n",
        "class Task5a(nn.Module):\n",
        "  def __init__(self, num_labels, vocab_size):\n",
        "    super(Task5a, self).__init__()\n",
        "    self.dp=nn.Dropout(0.2)\n",
        "    self.dp1=nn.Dropout(0.3)\n",
        "    self.dp2=nn.Dropout(0.4)\n",
        "    self.lin = nn.Linear(vocab_size, 30)\n",
        "    self.lin4 = nn.Linear(30,20)\n",
        "    self.lin5 = nn.Linear(20,10)\n",
        "    self.lin6 = nn.Linear(10, num_labels)\n",
        "  def forward(self, x):\n",
        "    x=F.relu(self.lin(x))\n",
        "    x=self.dp(x)\n",
        "    x=F.relu(self.lin4(x))\n",
        "    x=self.dp1(x)\n",
        "    x=F.relu(self.lin5(x))\n",
        "    x=self.dp2(x)\n",
        "    return F.softmax(self.lin6(x))\n",
        "\n",
        "    \n",
        " #task5b----  \n",
        "class Task5b(nn.Module):\n",
        "  def __init__(self, num_labels, vocab_size):\n",
        "    super(Task5b, self).__init__()\n",
        "    self.dp=nn.Dropout(0.2)\n",
        "    self.dp1=nn.Dropout(0.3)\n",
        "    self.dp2=nn.Dropout(0.4)\n",
        "    self.lin = nn.Linear(vocab_size, 30)\n",
        "    self.lin4 = nn.Linear(30,20)\n",
        "    self.lin5 = nn.Linear(20,10)\n",
        "    self.lin6 = nn.Linear(10, num_labels)\n",
        "  def forward(self, x):\n",
        "    x=F.tanh(self.lin(x))\n",
        "    x=self.dp(x)\n",
        "    x=F.tanh(self.lin4(x))\n",
        "    x=self.dp1(x)\n",
        "    x=F.tanh(self.lin5(x))\n",
        "    x=self.dp2(x)\n",
        "    return F.softmax(self.lin6(x))\n",
        "\n",
        " #task5c----  \n",
        "class Task5c(nn.Module):\n",
        "  def __init__(self, num_labels, vocab_size):\n",
        "    super(Task5c, self).__init__()\n",
        "    self.dp=nn.Dropout(0.2)\n",
        "    self.dp1=nn.Dropout(0.3)\n",
        "    self.dp2=nn.Dropout(0.4)\n",
        "    self.lin = nn.Linear(vocab_size, 30)\n",
        "    self.lin4 = nn.Linear(30,20)\n",
        "    self.lin5 = nn.Linear(20,10)\n",
        "    self.lin6 = nn.Linear(10, num_labels)\n",
        "  def forward(self, x):\n",
        "    x=F.sigmoid(self.lin(x))\n",
        "    x=self.dp(x)\n",
        "    x=F.sigmoid(self.lin4(x))\n",
        "    x=self.dp1(x)\n",
        "    x=F.sigmoid(self.lin5(x))\n",
        "    x=self.dp2(x)\n",
        "    return F.softmax(self.lin6(x))\n",
        "  \n",
        " #task7a\n",
        "class Task7a(nn.Module):\n",
        "  def __init__(self, num_labels, vocab_size):\n",
        "    super(Task7a, self).__init__()\n",
        "    self.dp=nn.Dropout(0.01)\n",
        "    self.dp1=nn.Dropout(0.01)\n",
        "    self.dp2=nn.Dropout(0.01)\n",
        "    self.lin = nn.Linear(vocab_size, 30)\n",
        "    self.lin4 = nn.Linear(30,20)\n",
        "    self.lin5 = nn.Linear(20,10)\n",
        "    self.lin6 = nn.Linear(10, num_labels)\n",
        "     \n",
        "    \n",
        "  def forward(self, x):\n",
        "    x=(self.lin(x))\n",
        "    x=self.dp(x)\n",
        "    x=(self.lin4(x))\n",
        "    x=self.dp1(x)\n",
        "    x=(self.lin5(x))\n",
        "    x=self.dp2(x)\n",
        "    return F.softmax(self.lin6(x))\n",
        "  \n",
        "  #task7b\n",
        "class Task7b(nn.Module):\n",
        "  def __init__(self, num_labels, vocab_size):\n",
        "    super(Task7b, self).__init__()\n",
        "    self.dp=nn.Dropout(0.01)\n",
        "    self.dp1=nn.Dropout(0.01)\n",
        "    self.dp2=nn.Dropout(0.01)\n",
        "    self.lin = nn.Linear(vocab_size, 30)\n",
        "    self.lin4 = nn.Linear(30,20)\n",
        "    self.lin5 = nn.Linear(20,10)\n",
        "    self.lin6 = nn.Linear(10, num_labels)\n",
        "     \n",
        "    \n",
        "  def forward(self, x):\n",
        "    x=(self.lin(x))\n",
        "    x=self.dp(x)\n",
        "    x=(self.lin4(x))\n",
        "    x=self.dp1(x)\n",
        "    x=(self.lin5(x))\n",
        "    x=self.dp2(x)\n",
        "    return F.softmax(self.lin6(x))\n",
        "  \n",
        "   #task7c\n",
        "class Task7c(nn.Module):\n",
        "  def __init__(self, num_labels, vocab_size):\n",
        "    super(Task7c, self).__init__()\n",
        "    self.dp=nn.Dropout(0.01)\n",
        "    self.dp1=nn.Dropout(0.01)\n",
        "    self.dp2=nn.Dropout(0.01)\n",
        "    self.lin = nn.Linear(vocab_size, 30)\n",
        "    self.lin4 = nn.Linear(30,20)\n",
        "    self.lin5 = nn.Linear(20,10)\n",
        "    self.lin6 = nn.Linear(10, num_labels)\n",
        "     \n",
        "    \n",
        "  def forward(self, x):\n",
        "    x=(self.lin(x))\n",
        "    x=self.dp(x)\n",
        "    x=(self.lin4(x))\n",
        "    x=self.dp1(x)\n",
        "    x=(self.lin5(x))\n",
        "    x=self.dp2(x)\n",
        "    return F.softmax(self.lin6(x))"
      ],
      "execution_count": 0,
      "outputs": []
    },
    {
      "metadata": {
        "id": "i0Z69E1kvpm0",
        "colab_type": "code",
        "colab": {}
      },
      "cell_type": "code",
      "source": [
        "def make_bow_vector(sentence, word_to_ix):\n",
        "    # create a vector of zeros of vocab size = len(word_to_idx)\n",
        "    vec = torch.zeros(len(word_to_ix))\n",
        "    for word in sentence:\n",
        "        if word not in word_to_ix:\n",
        "            #raise ValueError('Word',word,' not present in the dictionary. Sorry!')\n",
        "            c=1\n",
        "        else:\n",
        "            vec[word_to_ix[word]]+=1\n",
        "    return vec.view(1, -1)\n",
        "\n",
        "def make_target(label, label_to_ix):\n",
        "    return torch.FloatTensor([label_to_ix[label]])\n",
        "    #for task7B == return torch.FloatTensor([label_to_ix[label]])\n",
        "  \n",
        "  \n",
        "  \n",
        "\n"
      ],
      "execution_count": 0,
      "outputs": []
    },
    {
      "metadata": {
        "id": "pNPucF-gHGhd",
        "colab_type": "code",
        "colab": {}
      },
      "cell_type": "code",
      "source": [
        "#for task6--\n",
        "def make_bow_vector_b(sentence, word_to_bix):\n",
        "    # create a vector of zeros of vocab size = len(word_to_idx)\n",
        "    vec = torch.zeros(len(word_to_bix))\n",
        "    for word in sentence:\n",
        "        if word not in word_to_bix:\n",
        "            #raise ValueError('Word',word,' not present in the dictionary. Sorry!')\n",
        "            c=1\n",
        "        else:\n",
        "            vec[word_to_bix[word]]+=1\n",
        "    return vec.view(1, -1)"
      ],
      "execution_count": 0,
      "outputs": []
    },
    {
      "metadata": {
        "id": "eyfCXSu4vsd9",
        "colab_type": "code",
        "colab": {}
      },
      "cell_type": "code",
      "source": [
        "bow1a = Task1a(NUM_LABELS, VOCAB_SIZE).cuda()\n"
      ],
      "execution_count": 0,
      "outputs": []
    },
    {
      "metadata": {
        "id": "RHL_uHNcYF5K",
        "colab_type": "code",
        "colab": {}
      },
      "cell_type": "code",
      "source": [
        "bow1b = Task1b(NUM_LABELS, VOCAB_SIZE).cuda()"
      ],
      "execution_count": 0,
      "outputs": []
    },
    {
      "metadata": {
        "id": "8hOWoUFYYGDe",
        "colab_type": "code",
        "colab": {}
      },
      "cell_type": "code",
      "source": [
        "bow1c =  Task1c(NUM_LABELS, VOCAB_SIZE).cuda()"
      ],
      "execution_count": 0,
      "outputs": []
    },
    {
      "metadata": {
        "id": "ehSLiqsBYGJ9",
        "colab_type": "code",
        "colab": {}
      },
      "cell_type": "code",
      "source": [
        "bow1d =  Task1d(NUM_LABELS, VOCAB_SIZE).cuda()"
      ],
      "execution_count": 0,
      "outputs": []
    },
    {
      "metadata": {
        "id": "X4et2icZYGMy",
        "colab_type": "code",
        "colab": {}
      },
      "cell_type": "code",
      "source": [
        "bow2a =  Task2a(NUM_LABELS, VOCAB_SIZE).cuda()"
      ],
      "execution_count": 0,
      "outputs": []
    },
    {
      "metadata": {
        "id": "MoCdevRIYGQh",
        "colab_type": "code",
        "colab": {}
      },
      "cell_type": "code",
      "source": [
        "bow2b =  Task2b(NUM_LABELS, VOCAB_SIZE).cuda()"
      ],
      "execution_count": 0,
      "outputs": []
    },
    {
      "metadata": {
        "id": "6AEeOE5CYGTA",
        "colab_type": "code",
        "colab": {}
      },
      "cell_type": "code",
      "source": [
        "bow2c =  Task2c(NUM_LABELS, VOCAB_SIZE).cuda()"
      ],
      "execution_count": 0,
      "outputs": []
    },
    {
      "metadata": {
        "id": "qI9TPDEMYGWi",
        "colab_type": "code",
        "colab": {}
      },
      "cell_type": "code",
      "source": [
        "bow2d =  Task2d(NUM_LABELS, VOCAB_SIZE).cuda()"
      ],
      "execution_count": 0,
      "outputs": []
    },
    {
      "metadata": {
        "id": "xkPVKZGSyigD",
        "colab_type": "code",
        "colab": {}
      },
      "cell_type": "code",
      "source": [
        "bow2e =  Task2e(NUM_LABELS, VOCAB_SIZE).cuda()"
      ],
      "execution_count": 0,
      "outputs": []
    },
    {
      "metadata": {
        "id": "9PW9KjDNYGdx",
        "colab_type": "code",
        "colab": {}
      },
      "cell_type": "code",
      "source": [
        "bow3a =  Task3a(NUM_LABELS, VOCAB_SIZE).cuda()"
      ],
      "execution_count": 0,
      "outputs": []
    },
    {
      "metadata": {
        "id": "A7O6iZpAZN0E",
        "colab_type": "code",
        "colab": {}
      },
      "cell_type": "code",
      "source": [
        "bow3b =  Task3b(NUM_LABELS, VOCAB_SIZE).cuda()"
      ],
      "execution_count": 0,
      "outputs": []
    },
    {
      "metadata": {
        "id": "BUk6A5XdZOLE",
        "colab_type": "code",
        "colab": {}
      },
      "cell_type": "code",
      "source": [
        "bow4a =  Task4a(NUM_LABELS, VOCAB_SIZE).cuda()"
      ],
      "execution_count": 0,
      "outputs": []
    },
    {
      "metadata": {
        "id": "aK4Aov2FZOfy",
        "colab_type": "code",
        "colab": {}
      },
      "cell_type": "code",
      "source": [
        "bow4b =  Task4b(NUM_LABELS, VOCAB_SIZE).cuda()"
      ],
      "execution_count": 0,
      "outputs": []
    },
    {
      "metadata": {
        "id": "6cpk1Z32ZOtu",
        "colab_type": "code",
        "colab": {}
      },
      "cell_type": "code",
      "source": [
        "bow4c =  Task4c(NUM_LABELS, VOCAB_SIZE).cuda()"
      ],
      "execution_count": 0,
      "outputs": []
    },
    {
      "metadata": {
        "id": "10kPcOILZO5c",
        "colab_type": "code",
        "colab": {}
      },
      "cell_type": "code",
      "source": [
        "bow5a =  Task5a(NUM_LABELS, VOCAB_SIZE).cuda()"
      ],
      "execution_count": 0,
      "outputs": []
    },
    {
      "metadata": {
        "id": "v0Hyq1BzZPOK",
        "colab_type": "code",
        "colab": {}
      },
      "cell_type": "code",
      "source": [
        "bow5b =  Task5b(NUM_LABELS, VOCAB_SIZE).cuda()"
      ],
      "execution_count": 0,
      "outputs": []
    },
    {
      "metadata": {
        "id": "Jz1PGrQYZPq8",
        "colab_type": "code",
        "colab": {}
      },
      "cell_type": "code",
      "source": [
        "bow5c =  Task5c(NUM_LABELS, VOCAB_SIZE).cuda()"
      ],
      "execution_count": 0,
      "outputs": []
    },
    {
      "metadata": {
        "id": "6zfsYFOIKe8N",
        "colab_type": "code",
        "colab": {}
      },
      "cell_type": "code",
      "source": [
        "bow6 = Task6(NUM_LABELS, vocab_size_b)\n"
      ],
      "execution_count": 0,
      "outputs": []
    },
    {
      "metadata": {
        "id": "Lle8i2n1ZrFH",
        "colab_type": "code",
        "colab": {}
      },
      "cell_type": "code",
      "source": [
        "bow7a =  Task7a(NUM_LABELS, VOCAB_SIZE).cuda()"
      ],
      "execution_count": 0,
      "outputs": []
    },
    {
      "metadata": {
        "id": "u_samJ96ZrSY",
        "colab_type": "code",
        "colab": {}
      },
      "cell_type": "code",
      "source": [
        "bow7b =  Task7b(NUM_LABELS, VOCAB_SIZE).cuda()"
      ],
      "execution_count": 0,
      "outputs": []
    },
    {
      "metadata": {
        "id": "Fx-KGTYPZsOm",
        "colab_type": "code",
        "colab": {}
      },
      "cell_type": "code",
      "source": [
        "bow7c =  Task7c(NUM_LABELS, VOCAB_SIZE).cuda()"
      ],
      "execution_count": 0,
      "outputs": []
    },
    {
      "metadata": {
        "id": "eQHtkKk9vrsO",
        "colab_type": "code",
        "colab": {}
      },
      "cell_type": "code",
      "source": [
        "def accuracy(data,label):\n",
        "  count=0\n",
        "  tp =0\n",
        "  tn=0\n",
        "  fp=0\n",
        "  fn=0\n",
        "  for idx in range(len(data)):\n",
        "      bow_vec = Variable(make_bow_vector(data[idx], word_to_ix)).cuda()\n",
        "      labels = Variable(torch.LongTensor(label[idx])).cuda()\n",
        "      logprobs = bow7c(bow_vec).reshape(-1)\n",
        "      val,pred = logprobs.max(0)\n",
        "      #print(pred,label[idx]+1)\n",
        "      if(pred == label[idx] and pred==1):\n",
        "        count+=1\n",
        "        tp+=1\n",
        "        \n",
        "      elif(pred == label[idx] and pred==0):\n",
        "        tn+=1\n",
        "        count+=1\n",
        "      \n",
        "      elif(pred !=label[idx] and pred==1):\n",
        "        fp+=1\n",
        "        \n",
        "      elif(pred !=label[idx] and pred==0):\n",
        "        fn+=1\n",
        "  \n",
        "  precision =(tp)/(tp+fp)\n",
        "  recall=(tp/(tp+fn))\n",
        "  print(\"precision {}\".format(float(tp)/(tp+fp)))\n",
        "  print(\"recall {}\".format(float(tp/(tp+fn))))\n",
        "  print(\"F1 Score {}\".format(float(2*((precision*recall)/(precision+recall)))))\n",
        "  print(\"accuracy {}\".format(float(count/len(data))))\n",
        "        \n"
      ],
      "execution_count": 0,
      "outputs": []
    },
    {
      "metadata": {
        "id": "A_RmecDxOTAI",
        "colab_type": "code",
        "colab": {}
      },
      "cell_type": "code",
      "source": [
        "def accuracy_bg(data,label):\n",
        "  count=0\n",
        "  tp =0\n",
        "  tn=0\n",
        "  fp=0\n",
        "  fn=0\n",
        "  cnt = 0\n",
        "  for idx in range(len(data)):\n",
        "      bow_vec = Variable(make_bow_vector(data[idx], word_to_bix))\n",
        "      labels = Variable(torch.FloatTensor(label[idx]))\n",
        "      logprobs = bow6(bow_vec).reshape(-1)\n",
        "      val,pred = logprobs.max(0)\n",
        "      #print(pred,label[idx]+1)\n",
        "      print(pred,label[idx])\n",
        "      if(pred==label[idx]):\n",
        "        cnt+=1\n",
        "      if(pred == label[idx] and pred==1):\n",
        "        count+=1\n",
        "        tp+=1\n",
        "        \n",
        "      elif(pred == label[idx] and pred==0):\n",
        "        tn+=1\n",
        "      \n",
        "      elif(pred !=label[idx] and pred==1):\n",
        "        fp+=1\n",
        "        \n",
        "      elif(pred !=label[idx] and pred==0):\n",
        "        fn+=1\n",
        "  \n",
        "  precision =(tp)/(tp+fp)\n",
        "  recall=(tp/(tp+fn))\n",
        "  print(\"precision {}\".format(float(tp)/(tp+fp)))\n",
        "  print(\"recall {}\".format(float(tp/(tp+fn))))\n",
        "  print(\"F1 Score {}\".format(float(2*((precision*recall)/(precision+recall)))))\n",
        "  print(cnt/len(data))\n",
        "        "
      ],
      "execution_count": 0,
      "outputs": []
    },
    {
      "metadata": {
        "id": "lrzJ4hXoSWPq",
        "colab_type": "code",
        "colab": {}
      },
      "cell_type": "code",
      "source": [
        "#task7a---\n",
        "# define a loss function and an optimizer\n",
        "loss_function = nn.CrossEntropyLoss()\n",
        "opt = torch.optim.SGD(bow7a.parameters(), lr = 0.1)"
      ],
      "execution_count": 0,
      "outputs": []
    },
    {
      "metadata": {
        "id": "IxveFExVvrap",
        "colab_type": "code",
        "colab": {}
      },
      "cell_type": "code",
      "source": [
        "#task7b---\n",
        "# define a loss function and an optimizer\n",
        "loss_function = nn.MSELoss()\n",
        "opt = torch.optim.SGD(bow7b.parameters(), lr = 0.1)"
      ],
      "execution_count": 0,
      "outputs": []
    },
    {
      "metadata": {
        "id": "OBJn-JdvSOe1",
        "colab_type": "code",
        "colab": {}
      },
      "cell_type": "code",
      "source": [
        "#task7c---\n",
        "# define a loss function and an optimizer\n",
        "loss_function = nn.HingeEmbeddingLoss()\n",
        "opt = torch.optim.SGD(bow7c.parameters(), lr = 0.1)"
      ],
      "execution_count": 0,
      "outputs": []
    },
    {
      "metadata": {
        "id": "35kq5wTfv9yo",
        "colab_type": "code",
        "outputId": "42735a58-945c-4cba-9ccb-da99336e1258",
        "colab": {
          "base_uri": "https://localhost:8080/",
          "height": 367
        }
      },
      "cell_type": "code",
      "source": [
        "# the training loop\n",
        "#task7b\n",
        "for epoch in range(3):\n",
        "    print(\"epoch\",epoch)\n",
        "    for idx in range(len(train_data)):\n",
        "        # get the training data\n",
        "        bow7c.zero_grad()\n",
        "        #print(train_data[idx])\n",
        "        #print(train_label[idx])\n",
        "        bow_vec = Variable(make_bow_vector(train_data[idx], word_to_ix)).cuda()\n",
        "        #label  = Variable(torch.FloatTensor([train_label[idx]])).cuda()\n",
        "        label  = Variable(torch.FloatTensor([train_label[idx]])).cuda()\n",
        "        #print(bow_vec,label,train_label[idx])\n",
        "        probs = bow7c(bow_vec) # forward pass\n",
        "        #print(probs)\n",
        "        loss = loss_function(probs, label)\n",
        "        #opt.zero_grad()\n",
        "        loss.backward()\n",
        "        opt.step()\n",
        "    print('CURRENT LOSS: {}'.format(loss.data))\n",
        "    accuracy(train_data,train_label)\n"
      ],
      "execution_count": 149,
      "outputs": [
        {
          "output_type": "stream",
          "text": [
            "epoch 0\n"
          ],
          "name": "stdout"
        },
        {
          "output_type": "stream",
          "text": [
            "/usr/local/lib/python3.6/dist-packages/ipykernel_launcher.py:322: UserWarning: Implicit dimension choice for softmax has been deprecated. Change the call to include dim=X as an argument.\n"
          ],
          "name": "stderr"
        },
        {
          "output_type": "stream",
          "text": [
            "CURRENT LOSS: 1.0\n",
            "precision 0.49564781764669047\n",
            "recall 0.8789561354802887\n",
            "F1 Score 0.6338592135821254\n",
            "accuracy 0.49197177620978944\n",
            "epoch 1\n",
            "CURRENT LOSS: 1.0\n",
            "precision 0.496332978123237\n",
            "recall 0.8792892837312604\n",
            "F1 Score 0.6345059700296498\n",
            "accuracy 0.49319406633701873\n",
            "epoch 2\n",
            "CURRENT LOSS: 1.0\n",
            "precision 0.4952392883988975\n",
            "recall 0.8779566907273737\n",
            "F1 Score 0.6332652489086468\n",
            "accuracy 0.4912495138618812\n"
          ],
          "name": "stdout"
        }
      ]
    },
    {
      "metadata": {
        "id": "3tcqzNihK6up",
        "colab_type": "code",
        "colab": {}
      },
      "cell_type": "code",
      "source": [
        "#task 6\n",
        "\n",
        "\n",
        "# the training loop\n",
        "for epoch in range(5):\n",
        "    print(\"epoch\",epoch)\n",
        "    for idx in range(len(train_data)):\n",
        "        # get the training data\n",
        "        bow6.zero_grad()\n",
        "        #print(train_data[idx])\n",
        "        #print(train_label[idx])\n",
        "        bow_vec = Variable(make_bow_vector_b(train_data[idx], word_to_bix))\n",
        "        label  = Variable(torch.LongTensor([train_label[idx]]))\n",
        "        #for task7b-- label  = Variable(torch.FloatTensor([train_label[idx]])).cuda()\n",
        "        #print(bow_vec,label,train_label[idx])\n",
        "        probs = bow6(bow_vec) # forward pass\n",
        "        #print(probs)\n",
        "        loss = loss_function(probs, label)\n",
        "        #opt.zero_grad()\n",
        "        loss.backward()\n",
        "        opt.step()\n",
        "    print('CURRENT LOSS: {}'.format(loss.data))\n",
        "    accuracy_bg(train_data,train_label)\n"
      ],
      "execution_count": 0,
      "outputs": []
    },
    {
      "metadata": {
        "id": "rVJPAh9bv9mN",
        "colab_type": "code",
        "colab": {
          "base_uri": "https://localhost:8080/",
          "height": 124
        },
        "outputId": "0c64dde0-a0ae-4990-8d4c-34e985efd9b9"
      },
      "cell_type": "code",
      "source": [
        "accuracy(test_data,test_label)"
      ],
      "execution_count": 150,
      "outputs": [
        {
          "output_type": "stream",
          "text": [
            "/usr/local/lib/python3.6/dist-packages/ipykernel_launcher.py:322: UserWarning: Implicit dimension choice for softmax has been deprecated. Change the call to include dim=X as an argument.\n"
          ],
          "name": "stderr"
        },
        {
          "output_type": "stream",
          "text": [
            "precision 0.5016918565305662\n",
            "recall 0.8832406671961874\n",
            "F1 Score 0.6399079269169905\n",
            "accuracy 0.4994\n"
          ],
          "name": "stdout"
        }
      ]
    },
    {
      "metadata": {
        "id": "ipGcQ35Hv9c1",
        "colab_type": "code",
        "outputId": "aadc097b-4026-407b-9a60-c11e6665c035",
        "colab": {
          "base_uri": "https://localhost:8080/",
          "height": 72
        }
      },
      "cell_type": "code",
      "source": [
        "torch.save(bow7c.cpu(),'Task7c.mdl')\n",
        "from google.colab import files\n",
        "files.download(\"Task7c.mdl\")"
      ],
      "execution_count": 151,
      "outputs": [
        {
          "output_type": "stream",
          "text": [
            "/usr/local/lib/python3.6/dist-packages/torch/serialization.py:251: UserWarning: Couldn't retrieve source code for container of type Task7c. It won't be checked for correctness upon loading.\n",
            "  \"type \" + obj.__name__ + \". It won't be checked \"\n"
          ],
          "name": "stderr"
        }
      ]
    },
    {
      "metadata": {
        "id": "QyujP2Ggv9Sd",
        "colab_type": "code",
        "colab": {}
      },
      "cell_type": "code",
      "source": [
        ""
      ],
      "execution_count": 0,
      "outputs": []
    },
    {
      "metadata": {
        "id": "RuuERD_VwI5T",
        "colab_type": "code",
        "colab": {}
      },
      "cell_type": "code",
      "source": [
        ""
      ],
      "execution_count": 0,
      "outputs": []
    },
    {
      "metadata": {
        "id": "Ctzr2I1c5zTg",
        "colab_type": "code",
        "colab": {}
      },
      "cell_type": "code",
      "source": [
        ""
      ],
      "execution_count": 0,
      "outputs": []
    }
  ]
}