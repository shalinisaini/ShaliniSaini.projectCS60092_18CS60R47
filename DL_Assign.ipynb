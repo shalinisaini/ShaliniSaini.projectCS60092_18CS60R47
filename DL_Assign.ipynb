{
  "nbformat": 4,
  "nbformat_minor": 0,
  "metadata": {
    "colab": {
      "name": "DL_Assign.ipynb",
      "version": "0.3.2",
      "provenance": [],
      "include_colab_link": true
    },
    "kernelspec": {
      "name": "python3",
      "display_name": "Python 3"
    },
    "accelerator": "GPU"
  },
  "cells": [
    {
      "cell_type": "markdown",
      "metadata": {
        "id": "view-in-github",
        "colab_type": "text"
      },
      "source": [
        "<a href=\"https://colab.research.google.com/github/shalinisaini/CS60092_9A_18CS60R47/blob/master/DL_Assign.ipynb\" target=\"_parent\"><img src=\"https://colab.research.google.com/assets/colab-badge.svg\" alt=\"Open In Colab\"/></a>"
      ]
    },
    {
      "metadata": {
        "id": "ItGPNUQ5r5Lt",
        "colab_type": "code",
        "colab": {}
      },
      "cell_type": "code",
      "source": [
        "import torch\n",
        "import pandas as pd\n",
        "import numpy as np\n",
        "import torch.nn as nn\n",
        "import torch.nn.functional as F\n",
        "from torch.autograd import Variable\n",
        "SEED =42\n",
        "torch.manual_seed(SEED)\n",
        "torch.cuda.manual_seed(SEED)\n",
        "\n",
        "import nltk\n",
        "from nltk.corpus import stopwords \n",
        "from nltk.tokenize import word_tokenize \n"
      ],
      "execution_count": 0,
      "outputs": []
    },
    {
      "metadata": {
        "id": "sENBdtHuNuOU",
        "colab_type": "code",
        "outputId": "9cf05a41-92c7-4c6b-85db-4a547b73280c",
        "colab": {
          "base_uri": "https://localhost:8080/",
          "height": 104
        }
      },
      "cell_type": "code",
      "source": [
        "nltk.download('stopwords')\n",
        "nltk.download('punkt')"
      ],
      "execution_count": 2,
      "outputs": [
        {
          "output_type": "stream",
          "text": [
            "[nltk_data] Downloading package stopwords to /root/nltk_data...\n",
            "[nltk_data]   Unzipping corpora/stopwords.zip.\n",
            "[nltk_data] Downloading package punkt to /root/nltk_data...\n",
            "[nltk_data]   Unzipping tokenizers/punkt.zip.\n"
          ],
          "name": "stdout"
        },
        {
          "output_type": "execute_result",
          "data": {
            "text/plain": [
              "True"
            ]
          },
          "metadata": {
            "tags": []
          },
          "execution_count": 2
        }
      ]
    },
    {
      "metadata": {
        "id": "BPwxlUA3t7IE",
        "colab_type": "code",
        "colab": {}
      },
      "cell_type": "code",
      "source": [
        "\n",
        "url = 'https://raw.githubusercontent.com/binny-mathew/IITKGP_CS69002_Spring_2019/master/Dataset/Test_5K.csv'\n",
        "df1 = pd.read_csv(url, sep='\\t')"
      ],
      "execution_count": 0,
      "outputs": []
    },
    {
      "metadata": {
        "id": "yixXQWU_IHmF",
        "colab_type": "code",
        "colab": {}
      },
      "cell_type": "code",
      "source": [
        "url = 'https://raw.githubusercontent.com/binny-mathew/IITKGP_CS69002_Spring_2019/master/Dataset/Train_20K.csv'\n",
        "df2 = pd.read_csv(url, sep='\\t')"
      ],
      "execution_count": 0,
      "outputs": []
    },
    {
      "metadata": {
        "id": "mOWHbT7WuC2S",
        "colab_type": "code",
        "colab": {}
      },
      "cell_type": "code",
      "source": [
        "\n",
        "train_data = df2['text'].astype(str).tolist()\n",
        "train_label = df2['label'].astype(int)\n",
        "test_data = df1['text'].astype(str).tolist()\n",
        "test_label = df1['label'].astype(int)\n",
        "\n",
        "train_data = [x.lower() for x in train_data]\n",
        "test_data = [x.lower() for x in test_data]\n",
        "\n",
        "\n",
        " \n"
      ],
      "execution_count": 0,
      "outputs": []
    },
    {
      "metadata": {
        "id": "pScA5EvkGqwP",
        "colab_type": "code",
        "colab": {}
      },
      "cell_type": "code",
      "source": [
        "def preprocess(data):\n",
        "  stopword = set(stopwords.words('english'))\n",
        "  dt2=[]\n",
        "  for i in data:\n",
        "    words = i.split(\" \")\n",
        "    dt =[]\n",
        "    for j in words:\n",
        "      if(j not in stopword and not j.isdigit() and len(j)>1):\n",
        "        dt.append(j)\n",
        "    dt2.append(dt)\n",
        "  return dt2\n",
        "\n",
        "              "
      ],
      "execution_count": 0,
      "outputs": []
    },
    {
      "metadata": {
        "id": "4tQD3B1RHJ7Q",
        "colab_type": "code",
        "colab": {}
      },
      "cell_type": "code",
      "source": [
        "\n",
        "train_data = preprocess(train_data)\n",
        "test_data = preprocess(test_data)"
      ],
      "execution_count": 0,
      "outputs": []
    },
    {
      "metadata": {
        "id": "Saa3FQnKJfsE",
        "colab_type": "code",
        "outputId": "16f3711d-03d4-46ac-c6b2-5ea332edbb03",
        "colab": {
          "base_uri": "https://localhost:8080/",
          "height": 34
        }
      },
      "cell_type": "code",
      "source": [
        "print(len(train_data))"
      ],
      "execution_count": 25,
      "outputs": [
        {
          "output_type": "stream",
          "text": [
            "17999\n"
          ],
          "name": "stdout"
        }
      ]
    },
    {
      "metadata": {
        "id": "VyLj6cWluKjL",
        "colab_type": "code",
        "colab": {}
      },
      "cell_type": "code",
      "source": [
        "def generate_word_ids(dataset):\n",
        "  word_to_ix = {}\n",
        "  print(dataset)\n",
        "  for sent in dataset:\n",
        "      for word in sent:\n",
        "          if word not in word_to_ix:\n",
        "              word_to_ix[word] = 1\n",
        "          else:\n",
        "              word_to_ix[word] = word_to_ix[word]+1\n",
        "  return word_to_ix"
      ],
      "execution_count": 0,
      "outputs": []
    },
    {
      "metadata": {
        "id": "SMasvXTyvPjH",
        "colab_type": "code",
        "outputId": "3756902f-846d-4888-fc84-05908fb4b074",
        "colab": {
          "base_uri": "https://localhost:8080/",
          "height": 208
        }
      },
      "cell_type": "code",
      "source": [
        "word_to_ix = generate_word_ids(train_data)\n",
        "print(len(word_to_ix))\n",
        "NUM_LABELS = 2\n",
        "\n"
      ],
      "execution_count": 27,
      "outputs": [
        {
          "output_type": "stream",
          "text": [
            "IOPub data rate exceeded.\n",
            "The notebook server will temporarily stop sending output\n",
            "to the client in order to avoid crashing it.\n",
            "To change this limit, set the config variable\n",
            "`--NotebookApp.iopub_data_rate_limit`.\n",
            "\n",
            "Current values:\n",
            "NotebookApp.iopub_data_rate_limit=1000000.0 (bytes/sec)\n",
            "NotebookApp.rate_limit_window=3.0 (secs)\n",
            "\n"
          ],
          "name": "stderr"
        },
        {
          "output_type": "stream",
          "text": [
            "204915\n"
          ],
          "name": "stdout"
        }
      ]
    },
    {
      "metadata": {
        "id": "rrhRlLTrvT4e",
        "colab_type": "code",
        "outputId": "576beca2-79e2-46f5-f47a-badeac0191ff",
        "colab": {
          "base_uri": "https://localhost:8080/",
          "height": 34
        }
      },
      "cell_type": "code",
      "source": [
        "list=[]\n",
        "for i in word_to_ix:\n",
        "  if(word_to_ix[i]>10):\n",
        "    list.append(i)\n",
        "word_to_ix={}\n",
        "for i in list:\n",
        "  word_to_ix[i] = len(word_to_ix)\n",
        "  \n",
        "VOCAB_SIZE = len(word_to_ix)\n",
        "print(VOCAB_SIZE)"
      ],
      "execution_count": 28,
      "outputs": [
        {
          "output_type": "stream",
          "text": [
            "19704\n"
          ],
          "name": "stdout"
        }
      ]
    },
    {
      "metadata": {
        "id": "LRhNz0Y0vnBR",
        "colab_type": "code",
        "colab": {}
      },
      "cell_type": "code",
      "source": [
        "class BOWClassifier(nn.Module):\n",
        "  def __init__(self, num_labels, vocab_size):\n",
        "    super(BOWClassifier, self).__init__()\n",
        "    self.dp=nn.Dropout(0.2)\n",
        "    self.dp1=nn.Dropout(0.3)\n",
        "    self.dp2=nn.Dropout(0.4)\n",
        "    self.lin = nn.Linear(vocab_size, 30)\n",
        "    self.lin4 = nn.Linear(30,20)\n",
        "    self.lin5 = nn.Linear(20,10)\n",
        "    self.lin6 = nn.Linear(10, num_labels)\n",
        "    \n",
        "    \n",
        "    \n",
        "  def forward(self, x):\n",
        "    x=F.tanh(self.lin(x))\n",
        "    x=self.dp(x)\n",
        "    x=F.tanh(self.lin4(x))\n",
        "    x=self.dp1(x)\n",
        "    x=F.tanh(self.lin5(x))\n",
        "    x=self.dp2(x)\n",
        "    return F.softmax(self.lin6(x))\n",
        "  \n",
        "  \n",
        "  #task1a ---\n",
        "    #class BOWClassifier(nn.Module):\n",
        "    #def __init__(self, num_labels, vocab_size):\n",
        "    #super(BOWClassifier, self).__init__()\n",
        "    #self.lin = nn.Linear(vocab_size, 50)\n",
        "    #self.lin2 = nn.Linear(50, num_labels)\n",
        "    #def forward(self, x):\n",
        "     #return F.softmax(self.lin2(self.lin(x)))\n",
        "    \n",
        "    \n",
        "  #task1b ---\n",
        "    #class BOWClassifier(nn.Module):\n",
        "    #def __init__(self, num_labels, vocab_size):\n",
        "    #super(BOWClassifier, self).__init__()\n",
        "    #self.lin = nn.Linear(vocab_size, 100)\n",
        "    #self.lin2 = nn.Linear(100, num_labels)\n",
        "    #def forward(self, x):\n",
        "      #return F.softmax(self.lin2(self.lin(x)))\n",
        "    \n",
        "    \n",
        "  #task1c ---\n",
        "    #class BOWClassifier(nn.Module):\n",
        "    #def __init__(self, num_labels, vocab_size):\n",
        "    #super(BOWClassifier, self).__init__()\n",
        "    #self.lin = nn.Linear(vocab_size, 200)\n",
        "    #self.lin2 = nn.Linear(200, num_labels)\n",
        "    #def forward(self, x):\n",
        "      #return F.softmax(self.lin2(self.lin(x)))\n",
        "    \n",
        "    \n",
        "  #task1d ---\n",
        "    #class BOWClassifier(nn.Module):\n",
        "    #def __init__(self, num_labels, vocab_size):\n",
        "    #super(BOWClassifier, self).__init__()\n",
        "    #self.lin = nn.Linear(vocab_size, 500)\n",
        "    #self.lin2 = nn.Linear(500, num_labels)\n",
        "     #def forward(self, x):\n",
        "      #return F.softmax(self.lin2(self.lin(x)))\n",
        "  \n",
        " \n",
        "    \n",
        "  #task2a ---\n",
        "    #class BOWClassifier(nn.Module):\n",
        "    #def __init__(self, num_labels, vocab_size):\n",
        "    #super(BOWClassifier, self).__init__()\n",
        "    #self.lin = nn.Linear(vocab_size, 10)\n",
        "    #self.lin2 = nn.Linear(10, 10)\n",
        "    #self.lin3 = nn.Linear(10, num_labels)\n",
        "    #def forward(self, x):\n",
        "     #return F.softmax(self.lin3(self.lin2(self.lin(x))))\n",
        "  \n",
        "  #task2b ---\n",
        "    #class BOWClassifier(nn.Module):\n",
        "    #def __init__(self, num_labels, vocab_size):\n",
        "    #super(BOWClassifier, self).__init__()\n",
        "    #self.lin = nn.Linear(vocab_size, 20)\n",
        "    #self.lin2 = nn.Linear(20, 10)\n",
        "    #self.lin3 = nn.Linear(10, num_labels)\n",
        "    #def forward(self, x):\n",
        "      #return F.softmax(self.lin3(self.lin2(self.lin(x))))\n",
        "    \n",
        "   #task2c ---\n",
        "    #class BOWClassifier(nn.Module):\n",
        "    #def __init__(self, num_labels, vocab_size):\n",
        "    #super(BOWClassifier, self).__init__()\n",
        "    #self.lin = nn.Linear(vocab_size, 30)\n",
        "    #self.lin2 = nn.Linear(30, 30)\n",
        "    #self.lin3 = nn.Linear(30, num_labels)\n",
        "    #def forward(self, x):\n",
        "     #return F.softmax(self.lin3(self.lin2(self.lin(x))))\n",
        "    \n",
        "   #task2d ---\n",
        "    #class BOWClassifier(nn.Module):\n",
        "    #def __init__(self, num_labels, vocab_size):\n",
        "    #super(BOWClassifier, self).__init__()\n",
        "    #self.lin = nn.Linear(vocab_size, 50)\n",
        "    #self.lin2 = nn.Linear(50, 50)\n",
        "    #self.lin3 = nn.Linear(50, num_labels)\n",
        "    #def forward(self, x):\n",
        "      #return F.softmax(self.lin3(self.lin2(self.lin(x))))\n",
        "    \n",
        "   #task2e ---\n",
        "    #class BOWClassifier(nn.Module):\n",
        "    #def __init__(self, num_labels, vocab_size):\n",
        "    #super(BOWClassifier, self).__init__()\n",
        "    #self.lin = nn.Linear(vocab_size, 100)\n",
        "    #self.lin2 = nn.Linear(100, 50)\n",
        "    #self.lin3 = nn.Linear(50, num_labels)\n",
        "    #def forward(self, x):\n",
        "     #return F.softmax(self.lin3(self.lin2(self.lin(x))))\n",
        "    \n",
        "  #task3a----\n",
        "    #class BOWClassifier(nn.Module):\n",
        "    #def __init__(self, num_labels, vocab_size):\n",
        "    #super(BOWClassifier, self).__init__()\n",
        "    #self.lin = nn.Linear(vocab_size, 100)\n",
        "    #self.lin4 = nn.Linear(100,50)\n",
        "    #self.lin5 = nn.Linear(50,10)\n",
        "    #self.lin6 = nn.Linear(10, num_labels)\n",
        "    #def forward(self, x):\n",
        "      #return F.softmax(self.lin6(self.lin5(self.lin4(self.lin(x)))))\n",
        "  \n",
        "  \n",
        "   #task3b-----  \n",
        "    #class BOWClassifier(nn.Module):\n",
        "    #def __init__(self, num_labels, vocab_size):\n",
        "    #super(BOWClassifier, self).__init__()\n",
        "    #self.lin = nn.Linear(vocab_size, 200)\n",
        "    #self.lin4 = nn.Linear(200,100)\n",
        "    #self.lin5 = nn.Linear(100,10)\n",
        "    #self.lin6 = nn.Linear(10, num_labels)\n",
        "    \n",
        "   #def forward(self, x):\n",
        "    #return F.softmax(self.lin6(self.lin5(self.lin4(self.lin(x)))))\n",
        "  \n",
        "  \n",
        "  #task 4a----\n",
        "    #class BOWClassifier(nn.Module):\n",
        "    #def __init__(self, num_labels, vocab_size):\n",
        "    #super(BOWClassifier, self).__init__()\n",
        "    #self.dp=nn.Dropout(0.4)\n",
        "    #self.lin = nn.Linear(vocab_size, 30)\n",
        "    #self.lin4 = nn.Linear(30,20)\n",
        "    #self.lin5 = nn.Linear(20,10)\n",
        "    #self.lin6 = nn.Linear(10, num_labels)\n",
        "    #def forward(self, x):\n",
        "    #x=self.lin(x)\n",
        "    #x=self.dp(x)\n",
        "    #x=self.lin4(x)\n",
        "    #x=self.dp(x)\n",
        "    #x=self.lin5(x)\n",
        "    #x=self.dp(x)\n",
        "    #return F.softmax(self.lin6(x))\n",
        "  \n",
        "    \n",
        "  \n",
        " #task4b----\n",
        "    #class BOWClassifier(nn.Module):\n",
        "    #def __init__(self, num_labels, vocab_size):\n",
        "    #super(BOWClassifier, self).__init__()\n",
        "    #self.dp=nn.Dropout(0.1)\n",
        "    #self.dp1=nn.Dropout(0.2)\n",
        "    #self.lin = nn.Linear(vocab_size, 100)\n",
        "    #self.lin4 = nn.Linear(100,100)\n",
        "    #self.lin6 = nn.Linear(100, num_labels)\n",
        "    #def forward(self, x):\n",
        "    #x=F.relu(self.lin(x))\n",
        "    #x=self.dp(x)\n",
        "    #x=F.relu(self.lin4(x))\n",
        "    #x=self.dp1(x)\n",
        "    #return F.softmax(self.lin6(x))\n",
        "  \n",
        "   \n",
        " #task4c----\n",
        "    #class BOWClassifier(nn.Module):\n",
        "    #def __init__(self, num_labels, vocab_size):\n",
        "    #super(BOWClassifier, self).__init__()\n",
        "    #self.dp=nn.Dropout(0.1)\n",
        "    #self.dp1=nn.Dropout(0.2)\n",
        "    #self.lin = nn.Linear(vocab_size, 100)\n",
        "    #self.lin4 = nn.Linear(100,10)\n",
        "    #self.lin6 = nn.Linear(10, num_labels)\n",
        "    #def forward(self, x):\n",
        "    #x=F.relu(self.lin(x))\n",
        "    #x=self.dp(x)\n",
        "    #x=F.relu(self.lin4(x))\n",
        "    #x=self.dp1(x)\n",
        "    #return F.softmax(self.lin6(x))\n",
        "    \n",
        " #task5a----  \n",
        "    #class BOWClassifier(nn.Module):\n",
        "    #def __init__(self, num_labels, vocab_size):\n",
        "    #super(BOWClassifier, self).__init__()\n",
        "    #self.dp=nn.Dropout(0.2)\n",
        "    #self.dp1=nn.Dropout(0.3)\n",
        "    #self.dp2=nn.Dropout(0.4)\n",
        "    #self.lin = nn.Linear(vocab_size, 30)\n",
        "    #self.lin4 = nn.Linear(30,20)\n",
        "    #self.lin5 = nn.Linear(20,10)\n",
        "    #self.lin6 = nn.Linear(10, num_labels)\n",
        "    #def forward(self, x):\n",
        "    #x=F.relu(self.lin(x))\n",
        "    #x=self.dp(x)\n",
        "    #x=F.relu(self.lin4(x))\n",
        "    #x=self.dp1(x)\n",
        "    #x=F.relu(self.lin5(x))\n",
        "    #x=self.dp2(x)\n",
        "    #return F.softmax(self.lin6(x))\n",
        "\n",
        "    \n",
        " #task5b----  \n",
        "    #class BOWClassifier(nn.Module):\n",
        "    #def __init__(self, num_labels, vocab_size):\n",
        "    #super(BOWClassifier, self).__init__()\n",
        "    #self.dp=nn.Dropout(0.2)\n",
        "    #self.dp1=nn.Dropout(0.3)\n",
        "    #self.dp2=nn.Dropout(0.4)\n",
        "    #self.lin = nn.Linear(vocab_size, 30)\n",
        "    #self.lin4 = nn.Linear(30,20)\n",
        "    #self.lin5 = nn.Linear(20,10)\n",
        "    #self.lin6 = nn.Linear(10, num_labels)\n",
        "    #def forward(self, x):\n",
        "    #x=F.tanh(self.lin(x))\n",
        "    #x=self.dp(x)\n",
        "    #x=F.tanh(self.lin4(x))\n",
        "    #x=self.dp1(x)\n",
        "    #x=F.tanh(self.lin5(x))\n",
        "    #x=self.dp2(x)\n",
        "    #return F.softmax(self.lin6(x))\n",
        "\n",
        "    "
      ],
      "execution_count": 0,
      "outputs": []
    },
    {
      "metadata": {
        "id": "i0Z69E1kvpm0",
        "colab_type": "code",
        "colab": {}
      },
      "cell_type": "code",
      "source": [
        "def make_bow_vector(sentence, word_to_ix):\n",
        "    # create a vector of zeros of vocab size = len(word_to_idx)\n",
        "    vec = torch.zeros(len(word_to_ix))\n",
        "    for word in sentence:\n",
        "        if word not in word_to_ix:\n",
        "            #raise ValueError('Word',word,' not present in the dictionary. Sorry!')\n",
        "            c=1\n",
        "        else:\n",
        "            vec[word_to_ix[word]]+=1\n",
        "    return vec.view(1, -1)\n",
        "\n",
        "def make_target(label, label_to_ix):\n",
        "    return torch.LongTensor([label_to_ix[label]])\n"
      ],
      "execution_count": 0,
      "outputs": []
    },
    {
      "metadata": {
        "id": "eyfCXSu4vsd9",
        "colab_type": "code",
        "colab": {}
      },
      "cell_type": "code",
      "source": [
        "bow = BOWClassifier(NUM_LABELS, VOCAB_SIZE).cuda()\n"
      ],
      "execution_count": 0,
      "outputs": []
    },
    {
      "metadata": {
        "id": "eQHtkKk9vrsO",
        "colab_type": "code",
        "colab": {}
      },
      "cell_type": "code",
      "source": [
        "def accuracy(data,label):\n",
        "  count=0\n",
        "  tp =0\n",
        "  tn=0\n",
        "  fp=0\n",
        "  fn=0\n",
        "  for idx in range(len(data)):\n",
        "      bow_vec = Variable(make_bow_vector(data[idx], word_to_ix)).cuda()\n",
        "      labels = Variable(torch.LongTensor(label[idx])).cuda()\n",
        "      logprobs = bow(bow_vec).reshape(-1)\n",
        "      val,pred = logprobs.max(0)\n",
        "      #print(pred,label[idx]+1)\n",
        "      if(pred == label[idx] and pred==1):\n",
        "        count+=1\n",
        "        tp+=1\n",
        "        \n",
        "      elif(pred == label[idx] and pred==0):\n",
        "        tn+=1\n",
        "      \n",
        "      elif(pred !=label[idx] and pred==1):\n",
        "        fp+=1\n",
        "        \n",
        "      elif(pred !=label[idx] and pred==0):\n",
        "        fn+=1\n",
        "  \n",
        "  precision =(float(tp)/(tp+fp))\n",
        "  recall=(float(tp/(tp+fn)))\n",
        "  print(\"precision {}\".format(float(tp)/(tp+fp)))\n",
        "  print(\"recall {}\".format(float(tp/(tp+fn))))\n",
        "  print(\"F1 Score {}\".format(float(2*((precision*recall)/(precision+recall)))))\n",
        "  print(\"accuracy {}\".format(float(count/len(data))))\n",
        "        \n"
      ],
      "execution_count": 0,
      "outputs": []
    },
    {
      "metadata": {
        "id": "IxveFExVvrap",
        "colab_type": "code",
        "colab": {}
      },
      "cell_type": "code",
      "source": [
        "# define a loss function and an optimizer\n",
        "loss_function = nn.CrossEntropyLoss()\n",
        "opt = torch.optim.SGD(bow.parameters(), lr = 0.1)"
      ],
      "execution_count": 0,
      "outputs": []
    },
    {
      "metadata": {
        "id": "35kq5wTfv9yo",
        "colab_type": "code",
        "colab": {
          "base_uri": "https://localhost:8080/",
          "height": 610
        },
        "outputId": "3d55e656-1f20-43c6-fa7d-d4bc9b86b1a7"
      },
      "cell_type": "code",
      "source": [
        "# the training loop\n",
        "for epoch in range(5):\n",
        "    print(\"epoch\",epoch)\n",
        "    for idx in range(len(train_data)):\n",
        "        # get the training data\n",
        "        bow.zero_grad()\n",
        "        #print(train_data[idx])\n",
        "        #print(train_label[idx])\n",
        "        bow_vec = Variable(make_bow_vector(train_data[idx], word_to_ix)).cuda()\n",
        "        label  = Variable(torch.LongTensor([train_label[idx]])).cuda()\n",
        "        #print(bow_vec,label,train_label[idx])\n",
        "        probs = bow(bow_vec) # forward pass\n",
        "        #print(probs)\n",
        "        loss = loss_function(probs, label)\n",
        "        loss.backward()\n",
        "        opt.step()\n",
        "    print('CURRENT LOSS: {}'.format(loss.data))\n",
        "    accuracy(train_data,train_label)\n"
      ],
      "execution_count": 34,
      "outputs": [
        {
          "output_type": "stream",
          "text": [
            "epoch 0\n"
          ],
          "name": "stdout"
        },
        {
          "output_type": "stream",
          "text": [
            "/usr/local/lib/python3.6/dist-packages/torch/nn/functional.py:1320: UserWarning: nn.functional.tanh is deprecated. Use torch.tanh instead.\n",
            "  warnings.warn(\"nn.functional.tanh is deprecated. Use torch.tanh instead.\")\n",
            "/usr/local/lib/python3.6/dist-packages/ipykernel_launcher.py:21: UserWarning: Implicit dimension choice for softmax has been deprecated. Change the call to include dim=X as an argument.\n"
          ],
          "name": "stderr"
        },
        {
          "output_type": "stream",
          "text": [
            "CURRENT LOSS: 0.31388968229293823\n",
            "precision 0.8092594779733081\n",
            "recall 0.7609106052193226\n",
            "F1 Score 0.7843406593406593\n",
            "accuracy 0.3806878159897772\n",
            "epoch 1\n",
            "CURRENT LOSS: 0.3195299506187439\n",
            "precision 0.7862512256237063\n",
            "recall 0.8014436424208773\n",
            "F1 Score 0.7937747470303563\n",
            "accuracy 0.40096672037335407\n",
            "epoch 2\n",
            "CURRENT LOSS: 0.31358802318573\n",
            "precision 0.8475836431226765\n",
            "recall 0.6329816768461966\n",
            "F1 Score 0.7247298156389066\n",
            "accuracy 0.31668426023667984\n",
            "epoch 3\n",
            "CURRENT LOSS: 1.3132613897323608\n",
            "precision 0.7756517847152288\n",
            "recall 0.7697945585785675\n",
            "F1 Score 0.7727120722327501\n",
            "accuracy 0.3851325073615201\n",
            "epoch 4\n",
            "CURRENT LOSS: 1.3132603168487549\n",
            "precision 0.6878174702306603\n",
            "recall 0.9172681843420322\n",
            "F1 Score 0.7861425716189208\n",
            "accuracy 0.4589143841324518\n"
          ],
          "name": "stdout"
        }
      ]
    },
    {
      "metadata": {
        "id": "rVJPAh9bv9mN",
        "colab_type": "code",
        "outputId": "301d90eb-2a5e-4880-d011-e4003ebbc73c",
        "colab": {
          "base_uri": "https://localhost:8080/",
          "height": 159
        }
      },
      "cell_type": "code",
      "source": [
        "accuracy(test_data,test_label)"
      ],
      "execution_count": 35,
      "outputs": [
        {
          "output_type": "stream",
          "text": [
            "/usr/local/lib/python3.6/dist-packages/torch/nn/functional.py:1320: UserWarning: nn.functional.tanh is deprecated. Use torch.tanh instead.\n",
            "  warnings.warn(\"nn.functional.tanh is deprecated. Use torch.tanh instead.\")\n",
            "/usr/local/lib/python3.6/dist-packages/ipykernel_launcher.py:21: UserWarning: Implicit dimension choice for softmax has been deprecated. Change the call to include dim=X as an argument.\n"
          ],
          "name": "stderr"
        },
        {
          "output_type": "stream",
          "text": [
            "precision 0.671943711521548\n",
            "recall 0.9102462271644162\n",
            "F1 Score 0.7731489289930848\n",
            "accuracy 0.4584\n"
          ],
          "name": "stdout"
        }
      ]
    },
    {
      "metadata": {
        "id": "ipGcQ35Hv9c1",
        "colab_type": "code",
        "outputId": "cc041e27-4f09-450f-ed0d-1f613bf0f771",
        "colab": {
          "base_uri": "https://localhost:8080/",
          "height": 72
        }
      },
      "cell_type": "code",
      "source": [
        "torch.save(bow.cpu(),'Task5B.mdl')\n",
        "from google.colab import files\n",
        "files.download(\"Task5B.mdl\")"
      ],
      "execution_count": 36,
      "outputs": [
        {
          "output_type": "stream",
          "text": [
            "/usr/local/lib/python3.6/dist-packages/torch/serialization.py:251: UserWarning: Couldn't retrieve source code for container of type BOWClassifier. It won't be checked for correctness upon loading.\n",
            "  \"type \" + obj.__name__ + \". It won't be checked \"\n"
          ],
          "name": "stderr"
        }
      ]
    },
    {
      "metadata": {
        "id": "QyujP2Ggv9Sd",
        "colab_type": "code",
        "colab": {}
      },
      "cell_type": "code",
      "source": [
        ""
      ],
      "execution_count": 0,
      "outputs": []
    },
    {
      "metadata": {
        "id": "RuuERD_VwI5T",
        "colab_type": "code",
        "colab": {}
      },
      "cell_type": "code",
      "source": [
        ""
      ],
      "execution_count": 0,
      "outputs": []
    },
    {
      "metadata": {
        "id": "Ctzr2I1c5zTg",
        "colab_type": "code",
        "colab": {}
      },
      "cell_type": "code",
      "source": [
        ""
      ],
      "execution_count": 0,
      "outputs": []
    }
  ]
}