{
  "nbformat": 4,
  "nbformat_minor": 0,
  "metadata": {
    "colab": {
      "name": "DL_Assign.ipynb",
      "version": "0.3.2",
      "provenance": [],
      "include_colab_link": true
    },
    "kernelspec": {
      "name": "python3",
      "display_name": "Python 3"
    },
    "accelerator": "GPU"
  },
  "cells": [
    {
      "cell_type": "markdown",
      "metadata": {
        "id": "view-in-github",
        "colab_type": "text"
      },
      "source": [
        "<a href=\"https://colab.research.google.com/github/shalinisaini/CS60092_9A_18CS60R47/blob/master/DL_Assign.ipynb\" target=\"_parent\"><img src=\"https://colab.research.google.com/assets/colab-badge.svg\" alt=\"Open In Colab\"/></a>"
      ]
    },
    {
      "metadata": {
        "id": "ItGPNUQ5r5Lt",
        "colab_type": "code",
        "colab": {}
      },
      "cell_type": "code",
      "source": [
        "import torch\n",
        "import pandas as pd\n",
        "import numpy as np\n",
        "import torch.nn as nn\n",
        "import torch.nn.functional as F\n",
        "from torch.autograd import Variable\n",
        "SEED =42\n",
        "torch.manual_seed(SEED)\n",
        "torch.cuda.manual_seed(SEED)\n",
        "\n",
        "import nltk\n",
        "from nltk.corpus import stopwords \n",
        "from nltk.tokenize import word_tokenize \n"
      ],
      "execution_count": 0,
      "outputs": []
    },
    {
      "metadata": {
        "id": "sENBdtHuNuOU",
        "colab_type": "code",
        "outputId": "46f6be10-1ca0-43ac-a12f-c0f184976906",
        "colab": {
          "base_uri": "https://localhost:8080/",
          "height": 104
        }
      },
      "cell_type": "code",
      "source": [
        "nltk.download('stopwords')\n",
        "nltk.download('punkt')"
      ],
      "execution_count": 147,
      "outputs": [
        {
          "output_type": "stream",
          "text": [
            "[nltk_data] Downloading package stopwords to /root/nltk_data...\n",
            "[nltk_data]   Package stopwords is already up-to-date!\n",
            "[nltk_data] Downloading package punkt to /root/nltk_data...\n",
            "[nltk_data]   Package punkt is already up-to-date!\n"
          ],
          "name": "stdout"
        },
        {
          "output_type": "execute_result",
          "data": {
            "text/plain": [
              "True"
            ]
          },
          "metadata": {
            "tags": []
          },
          "execution_count": 147
        }
      ]
    },
    {
      "metadata": {
        "id": "BPwxlUA3t7IE",
        "colab_type": "code",
        "colab": {}
      },
      "cell_type": "code",
      "source": [
        "\n",
        "url = 'https://raw.githubusercontent.com/binny-mathew/IITKGP_CS69002_Spring_2019/master/Dataset/Test_5K.csv'\n",
        "df1 = pd.read_csv(url, sep='\\t')"
      ],
      "execution_count": 0,
      "outputs": []
    },
    {
      "metadata": {
        "id": "yixXQWU_IHmF",
        "colab_type": "code",
        "colab": {}
      },
      "cell_type": "code",
      "source": [
        "url = 'https://raw.githubusercontent.com/binny-mathew/IITKGP_CS69002_Spring_2019/master/Dataset/Train_20K.csv'\n",
        "df2 = pd.read_csv(url, sep='\\t')"
      ],
      "execution_count": 0,
      "outputs": []
    },
    {
      "metadata": {
        "id": "mOWHbT7WuC2S",
        "colab_type": "code",
        "colab": {}
      },
      "cell_type": "code",
      "source": [
        "train_data = df2['text'].astype(str).tolist()\n",
        "train_label = df2['label'].astype(int)\n",
        "test_data = df1['text'].astype(str).tolist()\n",
        "test_label = df1['label'].astype(int)\n",
        "\n",
        "train_data = [x.lower() for x in train_data]\n",
        "test_data = [x.lower() for x in test_data]\n",
        "\n",
        "\n",
        " \n"
      ],
      "execution_count": 0,
      "outputs": []
    },
    {
      "metadata": {
        "id": "pScA5EvkGqwP",
        "colab_type": "code",
        "colab": {}
      },
      "cell_type": "code",
      "source": [
        "def preprocess(data):\n",
        "  stopword = set(stopwords.words('english'))\n",
        "  dt2=[]\n",
        "  for i in data:\n",
        "    words = i.split(\" \")\n",
        "    dt =[]\n",
        "    for j in words:\n",
        "      if(j not in stopword and not j.isdigit() and len(j)>1):\n",
        "        dt.append(j)\n",
        "    dt2.append(dt)\n",
        "  return dt2\n",
        "\n",
        "              "
      ],
      "execution_count": 0,
      "outputs": []
    },
    {
      "metadata": {
        "id": "4tQD3B1RHJ7Q",
        "colab_type": "code",
        "colab": {}
      },
      "cell_type": "code",
      "source": [
        "\n",
        "train_data = preprocess(train_data)\n",
        "test_data = preprocess(test_data)"
      ],
      "execution_count": 0,
      "outputs": []
    },
    {
      "metadata": {
        "id": "Saa3FQnKJfsE",
        "colab_type": "code",
        "outputId": "09d281bc-5805-4564-b429-1ea4b86e97e4",
        "colab": {
          "base_uri": "https://localhost:8080/",
          "height": 34
        }
      },
      "cell_type": "code",
      "source": [
        "print(len(train_data))"
      ],
      "execution_count": 153,
      "outputs": [
        {
          "output_type": "stream",
          "text": [
            "17999\n"
          ],
          "name": "stdout"
        }
      ]
    },
    {
      "metadata": {
        "id": "VyLj6cWluKjL",
        "colab_type": "code",
        "colab": {}
      },
      "cell_type": "code",
      "source": [
        "def generate_word_ids(dataset):\n",
        "  word_to_ix = {}\n",
        "  print(dataset)\n",
        "  for sent in dataset:\n",
        "      for word in sent:\n",
        "          if word not in word_to_ix:\n",
        "              word_to_ix[word] = 1\n",
        "          else:\n",
        "              word_to_ix[word] = word_to_ix[word]+1\n",
        "  return word_to_ix"
      ],
      "execution_count": 0,
      "outputs": []
    },
    {
      "metadata": {
        "id": "SMasvXTyvPjH",
        "colab_type": "code",
        "outputId": "d2e8c011-851b-450a-cd1f-025372bebbcd",
        "colab": {
          "base_uri": "https://localhost:8080/",
          "height": 208
        }
      },
      "cell_type": "code",
      "source": [
        "word_to_ix = generate_word_ids(train_data)\n",
        "print(len(word_to_ix))\n",
        "NUM_LABELS = 2\n",
        "\n"
      ],
      "execution_count": 155,
      "outputs": [
        {
          "output_type": "stream",
          "text": [
            "IOPub data rate exceeded.\n",
            "The notebook server will temporarily stop sending output\n",
            "to the client in order to avoid crashing it.\n",
            "To change this limit, set the config variable\n",
            "`--NotebookApp.iopub_data_rate_limit`.\n",
            "\n",
            "Current values:\n",
            "NotebookApp.iopub_data_rate_limit=1000000.0 (bytes/sec)\n",
            "NotebookApp.rate_limit_window=3.0 (secs)\n",
            "\n"
          ],
          "name": "stderr"
        },
        {
          "output_type": "stream",
          "text": [
            "204915\n"
          ],
          "name": "stdout"
        }
      ]
    },
    {
      "metadata": {
        "id": "rrhRlLTrvT4e",
        "colab_type": "code",
        "outputId": "e612661a-510b-4b39-907a-2a5e3c660466",
        "colab": {
          "base_uri": "https://localhost:8080/",
          "height": 34
        }
      },
      "cell_type": "code",
      "source": [
        "list=[]\n",
        "for i in word_to_ix:\n",
        "  if(word_to_ix[i]>10):\n",
        "    list.append(i)\n",
        "word_to_ix={}\n",
        "for i in list:\n",
        "  word_to_ix[i] = len(word_to_ix)\n",
        "  \n",
        "VOCAB_SIZE = len(word_to_ix)\n",
        "print(VOCAB_SIZE)"
      ],
      "execution_count": 156,
      "outputs": [
        {
          "output_type": "stream",
          "text": [
            "19704\n"
          ],
          "name": "stdout"
        }
      ]
    },
    {
      "metadata": {
        "id": "LRhNz0Y0vnBR",
        "colab_type": "code",
        "colab": {}
      },
      "cell_type": "code",
      "source": [
        "class BOWClassifier(nn.Module):\n",
        "  def __init__(self, num_labels, vocab_size):\n",
        "    super(BOWClassifier, self).__init__()\n",
        "    self.dp=nn.Dropout(0.4)\n",
        "    self.lin = nn.Linear(vocab_size, 100)\n",
        "    #self.lin2 = nn.Linear(50, 50)\n",
        "    #self.lin3 = nn.Linear(50, 50)\n",
        "    #self.lin4 = nn.Linear(100, 100)\n",
        "    #self.lin5 = nn.Linear(100, 100)\n",
        "    #self.lin6 = nn.Linear(200, 200)\n",
        "    #self.lin7 = nn.Linear(200, 200)\n",
        "    #self.lin8 = nn.Linear(500, 500)\n",
        "    #self.lin9 = nn.Linear(500, 500)\n",
        "    #self.lin10 = nn.Linear(10, 10)\n",
        "    #self.lin11= nn.Linear(10, 10)\n",
        "    #self.lin12= nn.Linear(10, 10)\n",
        "    #self.lin13 = nn.Linear(20, 20)\n",
        "    #self.lin14= nn.Linear(20, 10)\n",
        "    #self.lin15= nn.Linear(10, 10)\n",
        "    #self.lin16 = nn.Linear(30, 30)\n",
        "    #self.lin17= nn.Linear(30, 30)\n",
        "    #self.lin18= nn.Linear(30, 30)\n",
        "    #self.lin19 = nn.Linear(50, 50)\n",
        "    #self.lin20= nn.Linear(50, 50)\n",
        "    #self.lin21= nn.Linear(50, 50)\n",
        "    #self.lin22 = nn.Linear(200, 200)\n",
        "    #self.lin23= nn.Linear(500, 500)\n",
        "    #self.lin24= nn.Linear(500, 500)\n",
        "    self.lin4 = nn.Linear(100,50)\n",
        "    self.lin5 = nn.Linear(50,10)\n",
        "    self.lin6 = nn.Linear(10, num_labels)\n",
        "    \n",
        "    \n",
        "    \n",
        "  def forward(self, x):\n",
        "    x=self.lin4(x)\n",
        "    x=self.dp(x)\n",
        "    return F.softmax(self.lin6(self.lin5(self.lin4(self.lin(x)))))"
      ],
      "execution_count": 0,
      "outputs": []
    },
    {
      "metadata": {
        "id": "i0Z69E1kvpm0",
        "colab_type": "code",
        "colab": {}
      },
      "cell_type": "code",
      "source": [
        "def make_bow_vector(sentence, word_to_ix):\n",
        "    # create a vector of zeros of vocab size = len(word_to_idx)\n",
        "    vec = torch.zeros(len(word_to_ix))\n",
        "    for word in sentence:\n",
        "        if word not in word_to_ix:\n",
        "            #raise ValueError('Word',word,' not present in the dictionary. Sorry!')\n",
        "            c=1\n",
        "        else:\n",
        "            vec[word_to_ix[word]]+=1\n",
        "    return vec.view(1, -1)\n",
        "\n",
        "def make_target(label, label_to_ix):\n",
        "    return torch.LongTensor([label_to_ix[label]])\n"
      ],
      "execution_count": 0,
      "outputs": []
    },
    {
      "metadata": {
        "id": "eyfCXSu4vsd9",
        "colab_type": "code",
        "colab": {}
      },
      "cell_type": "code",
      "source": [
        "bow = BOWClassifier(NUM_LABELS, VOCAB_SIZE).cuda()\n"
      ],
      "execution_count": 0,
      "outputs": []
    },
    {
      "metadata": {
        "id": "eQHtkKk9vrsO",
        "colab_type": "code",
        "colab": {}
      },
      "cell_type": "code",
      "source": [
        "def accuracy(data,label):\n",
        "  count=0\n",
        "  for idx in range(len(data)):\n",
        "      bow_vec = Variable(make_bow_vector(data[idx], word_to_ix)).cuda()\n",
        "      labels = Variable(torch.LongTensor(label[idx])).cuda()\n",
        "      logprobs = bow(bow_vec).reshape(-1)\n",
        "      val,pred = logprobs.max(0)\n",
        "      #print(pred,label[idx]+1)\n",
        "      if(pred == label[idx]):\n",
        "        count+=1\n",
        "  print(\"accuracy\",count/len(data))\n",
        "        \n"
      ],
      "execution_count": 0,
      "outputs": []
    },
    {
      "metadata": {
        "id": "IxveFExVvrap",
        "colab_type": "code",
        "colab": {}
      },
      "cell_type": "code",
      "source": [
        "# define a loss function and an optimizer\n",
        "loss_function = nn.CrossEntropyLoss()\n",
        "opt = torch.optim.SGD(bow.parameters(), lr = 0.1)"
      ],
      "execution_count": 0,
      "outputs": []
    },
    {
      "metadata": {
        "id": "35kq5wTfv9yo",
        "colab_type": "code",
        "outputId": "a8104c81-6c2c-4a21-8983-114c3f703e10",
        "colab": {
          "base_uri": "https://localhost:8080/",
          "height": 315
        }
      },
      "cell_type": "code",
      "source": [
        "# the training loop\n",
        "for epoch in range(5):\n",
        "    print(\"epoch\",epoch)\n",
        "    for idx in range(len(train_data)):\n",
        "        # get the training data\n",
        "        bow.zero_grad()\n",
        "        #print(train_data[idx])\n",
        "        #print(train_label[idx])\n",
        "        bow_vec = Variable(make_bow_vector(train_data[idx], word_to_ix)).cuda()\n",
        "        label  = Variable(torch.LongTensor([train_label[idx]])).cuda()\n",
        "        #print(bow_vec,label,train_label[idx])\n",
        "        probs = bow(bow_vec) # forward pass\n",
        "        #print(probs)\n",
        "        loss = loss_function(probs, label)\n",
        "        loss.backward()\n",
        "        opt.step()\n",
        "    print('CURRENT LOSS: {}'.format(loss.data))\n",
        "    accuracy(train_data,train_label)\n"
      ],
      "execution_count": 162,
      "outputs": [
        {
          "output_type": "stream",
          "text": [
            "epoch 0\n"
          ],
          "name": "stdout"
        },
        {
          "output_type": "stream",
          "text": [
            "/usr/local/lib/python3.6/dist-packages/ipykernel_launcher.py:34: UserWarning: Implicit dimension choice for softmax has been deprecated. Change the call to include dim=X as an argument.\n"
          ],
          "name": "stderr"
        },
        {
          "output_type": "stream",
          "text": [
            "CURRENT LOSS: 0.3491954207420349\n",
            "accuracy 0.8804378021001167\n",
            "epoch 1\n",
            "CURRENT LOSS: 0.3133314847946167\n",
            "accuracy 0.8683815767542641\n",
            "epoch 2\n",
            "CURRENT LOSS: 0.31326162815093994\n",
            "accuracy 0.863492416245347\n",
            "epoch 3\n",
            "CURRENT LOSS: 0.31326162815093994\n",
            "accuracy 0.916439802211234\n",
            "epoch 4\n",
            "CURRENT LOSS: 0.31326186656951904\n",
            "accuracy 0.9213289627201511\n"
          ],
          "name": "stdout"
        }
      ]
    },
    {
      "metadata": {
        "id": "rVJPAh9bv9mN",
        "colab_type": "code",
        "colab": {
          "base_uri": "https://localhost:8080/",
          "height": 72
        },
        "outputId": "1222bd79-27e3-4e09-e1ab-0540dc31ba94"
      },
      "cell_type": "code",
      "source": [
        "accuracy(test_data,test_label)"
      ],
      "execution_count": 163,
      "outputs": [
        {
          "output_type": "stream",
          "text": [
            "/usr/local/lib/python3.6/dist-packages/ipykernel_launcher.py:34: UserWarning: Implicit dimension choice for softmax has been deprecated. Change the call to include dim=X as an argument.\n"
          ],
          "name": "stderr"
        },
        {
          "output_type": "stream",
          "text": [
            "accuracy 0.8536\n"
          ],
          "name": "stdout"
        }
      ]
    },
    {
      "metadata": {
        "id": "ipGcQ35Hv9c1",
        "colab_type": "code",
        "colab": {
          "base_uri": "https://localhost:8080/",
          "height": 72
        },
        "outputId": "124a4e1a-e42e-42d0-ef82-e39eecf32ea7"
      },
      "cell_type": "code",
      "source": [
        "torch.save(bow.cpu(),'Task3A.mdl')\n",
        "from google.colab import files\n",
        "files.download(\"Task3A.mdl\")"
      ],
      "execution_count": 164,
      "outputs": [
        {
          "output_type": "stream",
          "text": [
            "/usr/local/lib/python3.6/dist-packages/torch/serialization.py:251: UserWarning: Couldn't retrieve source code for container of type BOWClassifier. It won't be checked for correctness upon loading.\n",
            "  \"type \" + obj.__name__ + \". It won't be checked \"\n"
          ],
          "name": "stderr"
        }
      ]
    },
    {
      "metadata": {
        "id": "QyujP2Ggv9Sd",
        "colab_type": "code",
        "colab": {}
      },
      "cell_type": "code",
      "source": [
        ""
      ],
      "execution_count": 0,
      "outputs": []
    },
    {
      "metadata": {
        "id": "RuuERD_VwI5T",
        "colab_type": "code",
        "colab": {}
      },
      "cell_type": "code",
      "source": [
        ""
      ],
      "execution_count": 0,
      "outputs": []
    },
    {
      "metadata": {
        "id": "Ctzr2I1c5zTg",
        "colab_type": "code",
        "colab": {}
      },
      "cell_type": "code",
      "source": [
        ""
      ],
      "execution_count": 0,
      "outputs": []
    }
  ]
}